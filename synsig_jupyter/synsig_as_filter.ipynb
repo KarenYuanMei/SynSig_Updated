{
 "cells": [
  {
   "cell_type": "code",
   "execution_count": 112,
   "id": "5477f4a6-fed1-43cf-8488-66dc6121451a",
   "metadata": {},
   "outputs": [],
   "source": [
    "import csv\n",
    "import numpy as np\n",
    "import pandas as pd"
   ]
  },
  {
   "cell_type": "code",
   "execution_count": 113,
   "id": "a7d9e284-a3d8-40f3-b050-9f8f823c4470",
   "metadata": {},
   "outputs": [
    {
     "name": "stdout",
     "output_type": "stream",
     "text": [
      "     Accession                                        Description  ΣCoverage  \\\n",
      "0       Q9BVA1  Tubulin beta-2B chain OS=Homo sapiens GN=TUBB2...      77.08   \n",
      "1       Q13885  Tubulin beta-2A chain OS=Homo sapiens GN=TUBB2...      77.08   \n",
      "2       P07437  Tubulin beta chain OS=Homo sapiens GN=TUBB PE=...      77.25   \n",
      "3       P68371  Tubulin beta-4B chain OS=Homo sapiens GN=TUBB4...      71.01   \n",
      "4       Q13509  Tubulin beta-3 chain OS=Homo sapiens GN=TUBB3 ...      74.44   \n",
      "...        ...                                                ...        ...   \n",
      "1472    Q9Y3T9  Nucleolar complex protein 2 homolog OS=Homo sa...       1.74   \n",
      "1473    Q9Y496  Kinesin-like protein KIF3A OS=Homo sapiens GN=...       1.57   \n",
      "1474    Q9Y5E1  Protocadherin beta-9 OS=Homo sapiens GN=PCDHB9...       1.88   \n",
      "1475  Q9Y639-3  Isoform 3 of Neuroplastin OS=Homo sapiens GN=N...       6.47   \n",
      "1476    Q9Y6W5  Wiskott-Aldrich syndrome protein family member...       2.61   \n",
      "\n",
      "      Σ# Proteins  Σ# Unique Peptides  Σ# Peptides  Σ# PSMs      Score A2  \\\n",
      "0               3                   2           40     2053  26514.075243   \n",
      "1               3                   2           40     2052  26401.678594   \n",
      "2              11                   6           39     1892  24026.846966   \n",
      "3               9                   2           38     1828  23309.878890   \n",
      "4              12                  15           32     1403  19059.387737   \n",
      "...           ...                 ...          ...      ...           ...   \n",
      "1472            1                   1            1        1           NaN   \n",
      "1473            5                   1            1        1           NaN   \n",
      "1474            2                   1            1        1           NaN   \n",
      "1475            8                   1            1        1           NaN   \n",
      "1476            1                   1            1        1           NaN   \n",
      "\n",
      "      Coverage A2  # Peptides A2  # PSM A2     Score A4  Coverage A4  \\\n",
      "0           77.08           38.0    1031.0  2581.190442        77.08   \n",
      "1           77.08           38.0    1030.0  2578.553089        77.08   \n",
      "2           77.25           38.0     959.0  2402.054074        77.25   \n",
      "3           71.01           37.0     929.0  2329.090733        71.01   \n",
      "4           74.44           32.0     713.0  1742.307927        74.44   \n",
      "...           ...            ...       ...          ...          ...   \n",
      "1472          NaN            NaN       NaN     0.000000         1.74   \n",
      "1473          NaN            NaN       NaN     0.000000         1.57   \n",
      "1474          NaN            NaN       NaN     0.000000         1.88   \n",
      "1475          NaN            NaN       NaN     0.000000         6.47   \n",
      "1476          NaN            NaN       NaN     0.000000         2.61   \n",
      "\n",
      "      # Peptides A4  # PSM A4  # AAs   MW [kDa]  calc. pI  \n",
      "0              38.0    1022.0    445  49.920946  4.894043  \n",
      "1              38.0    1022.0    445  49.874959  4.894043  \n",
      "2              37.0     933.0    444  49.638974  4.894043  \n",
      "3              36.0     899.0    445  49.799004  4.894043  \n",
      "4              31.0     690.0    450  50.400257  4.932129  \n",
      "...             ...       ...    ...        ...       ...  \n",
      "1472            1.0       1.0    749  84.866154  5.617676  \n",
      "1473            1.0       1.0    699  79.990981  6.536621  \n",
      "1474            1.0       1.0    797  87.045220  5.020996  \n",
      "1475            1.0       1.0    278  30.815709  7.840332  \n",
      "1476            1.0       1.0    498  54.250378  5.528809  \n",
      "\n",
      "[1477 rows x 18 columns]\n"
     ]
    },
    {
     "name": "stderr",
     "output_type": "stream",
     "text": [
      "/cellar/users/yumei/miniconda3/envs/synsig/lib/python3.7/site-packages/openpyxl/worksheet/_read_only.py:79: UserWarning: Unknown extension is not supported and will be removed\n",
      "  for idx, row in parser.parse():\n"
     ]
    }
   ],
   "source": [
    "fetal=pd.read_excel('/cellar/users/yumei/Documents/SynSig_August2020/SynSig/experimental_validation/fetal_human_proteomics.xlsx')\n",
    "print (fetal)"
   ]
  },
  {
   "cell_type": "code",
   "execution_count": 114,
   "id": "3f195edf-a98a-4793-8f3f-91b710e920a4",
   "metadata": {},
   "outputs": [
    {
     "name": "stdout",
     "output_type": "stream",
     "text": [
      "     Accession                                        Description  ΣCoverage  \\\n",
      "0       P60709  Actin, cytoplasmic 1 OS=Homo sapiens GN=ACTB P...      74.40   \n",
      "1       Q16352  Alpha-internexin OS=Homo sapiens GN=INA PE=1 S...      72.34   \n",
      "2       Q14204  Cytoplasmic dynein 1 heavy chain 1 OS=Homo sap...      56.37   \n",
      "3     Q71U36-2  Isoform 2 of Tubulin alpha-1A chain OS=Homo sa...      81.73   \n",
      "4       E7ESP9  Neurofilament medium polypeptide OS=Homo sapie...      80.96   \n",
      "...        ...                                                ...        ...   \n",
      "3578  Q96RL7-4  Isoform 4 of Vacuolar protein sorting-associat...       0.42   \n",
      "3579    E7EP17  Dynein heavy chain 9, axonemal OS=Homo sapiens...       0.36   \n",
      "3580    Q13315  Serine-protein kinase ATM OS=Homo sapiens GN=A...       0.33   \n",
      "3581    Q9NR09  Baculoviral IAP repeat-containing protein 6 OS...       0.33   \n",
      "3582  Q8IWT3-3  Isoform 2 of Cullin-9 OS=Homo sapiens GN=CUL9 ...       0.29   \n",
      "\n",
      "      Σ# Proteins  Σ# Unique Peptides  Σ# Peptides  Σ# PSMs      Score A2  \\\n",
      "0              15                  16           40     2040  32237.305175   \n",
      "1               1                  50           58     1883  37570.733191   \n",
      "2               9                 296          296     1865  17932.970012   \n",
      "3              16                   1           39     1807  26717.068288   \n",
      "4               4                  92           99     1680  18954.934230   \n",
      "...           ...                 ...          ...      ...           ...   \n",
      "3578            4                   1            1        1      0.000000   \n",
      "3579            3                   1            1        1      0.000000   \n",
      "3580            1                   1            1        1           NaN   \n",
      "3581            1                   1            1        1           NaN   \n",
      "3582            3                   1            1        1           NaN   \n",
      "\n",
      "      Coverage A2  # Peptides A2  # PSM A2     Score A4  Coverage A4  \\\n",
      "0           74.40           38.0    1019.0  3604.152038        74.40   \n",
      "1           72.34           57.0     934.0  3167.998548        71.74   \n",
      "2           54.78          282.0     914.0  2612.932731        55.98   \n",
      "3           81.73           37.0     890.0  2857.763831        81.73   \n",
      "4           79.59           94.0     824.0  2759.346851        78.79   \n",
      "...           ...            ...       ...          ...          ...   \n",
      "3578         0.42            1.0       1.0          NaN          NaN   \n",
      "3579         0.36            1.0       1.0          NaN          NaN   \n",
      "3580          NaN            NaN       NaN     2.014346         0.33   \n",
      "3581          NaN            NaN       NaN     0.000000         0.33   \n",
      "3582          NaN            NaN       NaN     0.000000         0.29   \n",
      "\n",
      "      # Peptides A4  # PSM A4  # AAs    MW [kDa]  calc. pI  \n",
      "0              39.0    1021.0    375   41.709732  5.478027  \n",
      "1              57.0     949.0    499   55.357396  5.401855  \n",
      "2             289.0     951.0   4646  532.071864  6.404785  \n",
      "3              39.0     917.0    416   46.267843  5.084473  \n",
      "4              96.0     856.0    877   98.322291  4.855957  \n",
      "...             ...       ...    ...         ...       ...  \n",
      "3578            NaN       NaN   3069  347.452934  6.163574  \n",
      "3579            NaN       NaN   4410  503.025598  5.896973  \n",
      "3580            1.0       1.0   3056  350.489097  6.814941  \n",
      "3581            1.0       1.0   4857  529.919353  6.049316  \n",
      "3582            1.0       1.0   2407  268.190144  5.541504  \n",
      "\n",
      "[3583 rows x 18 columns]\n"
     ]
    },
    {
     "name": "stderr",
     "output_type": "stream",
     "text": [
      "/cellar/users/yumei/miniconda3/envs/synsig/lib/python3.7/site-packages/openpyxl/worksheet/_read_only.py:79: UserWarning: Unknown extension is not supported and will be removed\n",
      "  for idx, row in parser.parse():\n"
     ]
    }
   ],
   "source": [
    "ngn2=pd.read_excel('/cellar/users/yumei/Documents/SynSig_August2020/SynSig/experimental_validation/coba_ngn2_proteomics.xlsx')\n",
    "print (ngn2)"
   ]
  },
  {
   "cell_type": "code",
   "execution_count": 115,
   "id": "28a87816-80e8-44fe-bc4d-3edf08619ea0",
   "metadata": {},
   "outputs": [
    {
     "name": "stdout",
     "output_type": "stream",
     "text": [
      "851\n"
     ]
    }
   ],
   "source": [
    "#find how many accession numbers the two human proteomic datasets have in common:\n",
    "fetal_acc=fetal['Accession'].tolist()\n",
    "ngn2_acc=ngn2['Accession'].tolist()\n",
    "overlap=list(set(fetal_acc)&set(ngn2_acc))\n",
    "print (len(overlap))\n"
   ]
  },
  {
   "cell_type": "code",
   "execution_count": 116,
   "id": "c0934557-0ef6-44c7-8ec4-58e9fd903379",
   "metadata": {},
   "outputs": [
    {
     "name": "stdout",
     "output_type": "stream",
     "text": [
      "850\n"
     ]
    }
   ],
   "source": [
    "#check how many descriptions the human proteomic datasets have in common:\n",
    "fetal_desc=fetal['Description'].tolist()\n",
    "ngn2_desc=ngn2['Description'].tolist()\n",
    "\n",
    "overlap=list(set(fetal_desc)&set(ngn2_desc))\n",
    "print (len(overlap))"
   ]
  },
  {
   "cell_type": "code",
   "execution_count": 117,
   "id": "bf057a66-ef4f-4086-b32b-1200b43002ea",
   "metadata": {},
   "outputs": [],
   "source": [
    "mouse_ctx=pd.read_excel('/cellar/users/yumei/Documents/SynSig_August2020/SynSig/experimental_validation/weijun_cortex_proteomics.xlsx')"
   ]
  },
  {
   "cell_type": "code",
   "execution_count": 118,
   "id": "6605a8b8-fc72-4026-8f0e-ea72f17bfcf6",
   "metadata": {},
   "outputs": [],
   "source": [
    "mouse_str=pd.read_excel('/cellar/users/yumei/Documents/SynSig_August2020/SynSig/experimental_validation/weijun_striatum_proteomics.xlsx')"
   ]
  },
  {
   "cell_type": "code",
   "execution_count": 119,
   "id": "233a5297-affc-4164-8c75-ebff5374ac90",
   "metadata": {},
   "outputs": [
    {
     "name": "stdout",
     "output_type": "stream",
     "text": [
      "                                           Protein_name  CountOfPeptide1  \\\n",
      "0      Mitochondrial import inner membrane transloca...                3   \n",
      "1      Disintegrin and metalloproteinase domain-cont...                1   \n",
      "2                          Plexin-A4; Flags: Precursor;                6   \n",
      "3      Calcium/calmodulin-dependent protein kinase t...               19   \n",
      "4      SH3 and multiple ankyrin repeat domains prote...               20   \n",
      "...                                                 ...              ...   \n",
      "2775   Gamma-enolase; EC=4.2.1.11; AltName: 2-phosph...                8   \n",
      "2776   Cytoplasmic dynein 1 heavy chain 1; AltName: ...               97   \n",
      "2777   Syntaxin-1A; AltName: Neuron-specific antigen...               15   \n",
      "2778   Polyadenylate-binding protein 1; Short=Poly(A...               12   \n",
      "2779   60S ribosomal protein L22; AltName: Heparin-b...                2   \n",
      "\n",
      "             FirstOfClean_Peptide  Spectral count  MSGF_SpecProb   Protein_ID  \\\n",
      "0        EFLGTYNKLTETCFLDCVKDFTTR               5   2.967301e-14   TIM9_MOUSE   \n",
      "1                 SQM*SDGRNQANVSR               1   1.200712e-13  ADAM9_MOUSE   \n",
      "2                       EKILDAIFK               7   5.300275e-17  PLXA4_MOUSE   \n",
      "3                GSTESCNTTTEDEDLK              39   2.332480e-21  KCC2G_MOUSE   \n",
      "4             AHSPQGEGEIPLHRGEAVK              26   5.814777e-19  SHAN3_MOUSE   \n",
      "...                           ...             ...            ...          ...   \n",
      "2775                     AVDHINSR               9   7.293324e-24   ENOG_MOUSE   \n",
      "2776  ARYKEEYAVLISEAQAIKADLAAVEAK             135   1.248184e-22  DYHC1_MOUSE   \n",
      "2777                   M*KDRTQELR              26   4.525589e-20  STX1A_MOUSE   \n",
      "2778             ALYDTFSAFGNILSCK              15   8.046686e-21  PABP1_MOUSE   \n",
      "2779  FTLDCTHPVEDGIM*DAANFEQFLQER               4   5.384963e-23   RL22_MOUSE   \n",
      "\n",
      "            WT1        WT2        WT3        KO1        KO2        KO3  \\\n",
      "0     19.443309  19.468768  19.445691  19.211459  19.169905  19.183172   \n",
      "1     14.471835  14.568287  14.494413  14.050856  14.119916  14.033956   \n",
      "2     19.894674  19.876571  19.895411  20.093167  20.052468  20.022481   \n",
      "3     25.247649  25.399844  25.386239  24.961266  24.829537  24.898152   \n",
      "4     23.040962  22.515421  22.889908  21.759018  21.500994  21.628525   \n",
      "...         ...        ...        ...        ...        ...        ...   \n",
      "2775  20.817439  20.623641  20.660852  20.556512  20.830275  20.715654   \n",
      "2776  25.596699  25.789945  25.674573  25.653439  25.808786  25.598614   \n",
      "2777  23.532017  23.281482  23.346870  23.169575  23.557902  23.433471   \n",
      "2778  22.515126  22.846653  22.496065  22.598533  22.776520  22.483192   \n",
      "2779  18.556585  18.577636  18.403293  18.285776  18.691322  18.560716   \n",
      "\n",
      "      Fold_Change in Log2(KO/WT)   P-value   Q-value  \n",
      "0                      -0.264410  0.000056  0.156092  \n",
      "1                      -0.443269  0.000350  0.486413  \n",
      "2                       0.167153  0.001447  0.999429  \n",
      "3                      -0.448259  0.001910  0.999429  \n",
      "4                      -1.185918  0.002374  0.999429  \n",
      "...                          ...       ...       ...  \n",
      "2775                    0.000169  0.998720  0.999429  \n",
      "2776                   -0.000126  0.998879  0.999429  \n",
      "2777                    0.000193  0.998942  0.999429  \n",
      "2778                    0.000133  0.999296  0.999429  \n",
      "2779                    0.000100  0.999429  0.999429  \n",
      "\n",
      "[2780 rows x 15 columns]\n"
     ]
    }
   ],
   "source": [
    "print (mouse_ctx)"
   ]
  },
  {
   "cell_type": "code",
   "execution_count": 120,
   "id": "66ae78fe-79c6-4034-ab5d-45cee7d684f0",
   "metadata": {},
   "outputs": [
    {
     "name": "stdout",
     "output_type": "stream",
     "text": [
      "                                           Protein_name  CountOfPeptide1  \\\n",
      "0     Protein lin-7 homolog C; Short=Lin-7C; Short=m...                1   \n",
      "1     Phosphate carrier protein, mitochondrial; AltN...               12   \n",
      "2     Voltage-dependent calcium channel gamma-3 subu...                1   \n",
      "3     Inactive hydroxysteroid dehydrogenase-like pro...                1   \n",
      "4     Ras GTPase-activating protein-binding protein ...                1   \n",
      "...                                                 ...              ...   \n",
      "1465  Hexokinase-1; EC=2.7.1.1; AltName: Full=Hexoki...               29   \n",
      "1466  5'-nucleotidase; Short=5'-NT; EC=3.1.3.5; AltN...                1   \n",
      "1467  Calcium/calmodulin-dependent protein kinase ty...               16   \n",
      "1468  Elongation factor Tu, mitochondrial; Flags: Pr...               14   \n",
      "1469  MAP6 domain-containing protein 1; AltName: Ful...                1   \n",
      "\n",
      "     FirstOfClean_Peptide  Spectral count  MSGF_SpecProb   Protein_ID  \\\n",
      "0              AIELLEKLQR               1   2.731924e-12  LIN7C_MOUSE   \n",
      "1           AVEEYSCEFGSMK              23   1.414674e-20   MPCP_MOUSE   \n",
      "2                SHSELLKK               1   1.026292e-10   CCG3_MOUSE   \n",
      "3               ALQYEYASK               1   9.354351e-13  HSDL1_MOUSE   \n",
      "4              ILIAKPIMFR               1   1.535301e-12  G3BP2_MOUSE   \n",
      "...                   ...             ...            ...          ...   \n",
      "1465          ASGVEGADVVK              48   4.701828e-26   HXK1_MOUSE   \n",
      "1466             AFEHSVHR               1   3.873642e-12   5NTD_MOUSE   \n",
      "1467          GAILTTMLVSR              29   1.997666e-20  KCC2G_MOUSE   \n",
      "1468       FKKYEEIDNAPEER              23   3.198001e-25   EFTU_MOUSE   \n",
      "1469            GNPSVAGAR               1   4.803604e-12  MA6D1_MOUSE   \n",
      "\n",
      "            WT1        WT2        WT3        KO1        KO2        KO3  \\\n",
      "0     16.219194  16.211241  16.207861  15.218060  15.244406  15.210466   \n",
      "1     20.449701  20.452218  20.448563  21.029733  21.044446  21.107263   \n",
      "2     13.625771  13.603218  13.561789  13.176438  13.222967  13.226855   \n",
      "3     16.548851  16.550865  16.596285  17.005012  16.994303  17.081000   \n",
      "4     14.920119  14.901135  14.843851  15.505327  15.402707  15.511029   \n",
      "...         ...        ...        ...        ...        ...        ...   \n",
      "1465  21.350517  21.977232  21.694319  21.323748  21.627480  22.066122   \n",
      "1466  12.511901  11.867187  12.089676  12.637210  11.841593  11.986116   \n",
      "1467  21.958679  21.602334  21.653420  21.920642  21.525215  21.766743   \n",
      "1468  20.547320  21.150115  20.880292  20.443081  21.213626  20.917913   \n",
      "1469  15.319201  15.147656  15.319106  14.902928  16.036894  14.848903   \n",
      "\n",
      "      Fold_Change in Log2(KO/WT)       p-value   Q-value  \n",
      "0                      -0.988455  8.604383e-08  0.000083  \n",
      "1                       0.610320  1.373124e-05  0.006657  \n",
      "2                      -0.388173  9.678199e-05  0.029955  \n",
      "3                       0.461438  1.244258e-04  0.029955  \n",
      "4                       0.584653  1.544759e-04  0.029955  \n",
      "...                          ...           ...       ...  \n",
      "1465                   -0.001572  9.958119e-01  0.658216  \n",
      "1466                   -0.001282  9.968918e-01  0.658216  \n",
      "1467                   -0.000611  9.971383e-01  0.658216  \n",
      "1468                   -0.001036  9.972658e-01  0.658216  \n",
      "1469                    0.000920  9.982371e-01  0.658409  \n",
      "\n",
      "[1470 rows x 15 columns]\n"
     ]
    }
   ],
   "source": [
    "print (mouse_str)"
   ]
  },
  {
   "cell_type": "code",
   "execution_count": 121,
   "id": "d1f2de13-4c5f-4d7c-b9b7-e6a71482f6a7",
   "metadata": {},
   "outputs": [],
   "source": [
    "fetal_df=pd.read_csv('/cellar/users/yumei/Documents/SynSig_August2020/SynSig/experimental_validation/coba_fetal_brain.csv', index_col=[0])\n",
    "\n"
   ]
  },
  {
   "cell_type": "code",
   "execution_count": 122,
   "id": "349cf900-c4f7-4a14-8032-eca19dc5f4d0",
   "metadata": {},
   "outputs": [
    {
     "name": "stdout",
     "output_type": "stream",
     "text": [
      "     Norm_Symbol\n",
      "0           ACTB\n",
      "1            INA\n",
      "2        DYNC1H1\n",
      "3         TUBA1A\n",
      "4           NEFM\n",
      "...          ...\n",
      "3570      VPS13A\n",
      "3571       DNAH9\n",
      "3572         ATM\n",
      "3573       BIRC6\n",
      "3574        CUL9\n",
      "\n",
      "[3575 rows x 1 columns]\n"
     ]
    }
   ],
   "source": [
    "ngn2_df=pd.read_csv('/cellar/users/yumei/Documents/SynSig_August2020/SynSig/experimental_validation/Coba_NGN2.csv', index_col=[0])\n",
    "print (ngn2_df)"
   ]
  },
  {
   "cell_type": "code",
   "execution_count": 123,
   "id": "2ed90da2-df62-439a-a4cb-d88231adb854",
   "metadata": {},
   "outputs": [
    {
     "name": "stdout",
     "output_type": "stream",
     "text": [
      "             From       To\n",
      "0      TIM9_MOUSE    Timm9\n",
      "1     ADAM9_MOUSE    Adam9\n",
      "2     PLXA4_MOUSE   Plxna4\n",
      "3     KCC2G_MOUSE   Camk2g\n",
      "4     SHAN3_MOUSE   Shank3\n",
      "...           ...      ...\n",
      "2608   ENOG_MOUSE     Eno2\n",
      "2609  DYHC1_MOUSE  Dync1h1\n",
      "2610  STX1A_MOUSE    Stx1a\n",
      "2611  PABP1_MOUSE   Pabpc1\n",
      "2612   RL22_MOUSE    Rpl22\n",
      "\n",
      "[2613 rows x 2 columns]\n"
     ]
    }
   ],
   "source": [
    "mouse_ctx_df=pd.read_csv('/cellar/users/yumei/Documents/SynSig_August2020/SynSig/experimental_validation/weijun_ctx_uniprot.csv', sep='\\t')\n",
    "print (mouse_ctx_df)"
   ]
  },
  {
   "cell_type": "code",
   "execution_count": 124,
   "id": "3b5389e0-6434-42c1-950c-60e7cab457db",
   "metadata": {},
   "outputs": [],
   "source": [
    "mouse_str_df=pd.read_csv('/cellar/users/yumei/Documents/SynSig_August2020/SynSig/experimental_validation/weijun_str_uniprot.csv', sep='\\t')"
   ]
  },
  {
   "cell_type": "code",
   "execution_count": 125,
   "id": "92f772ce-121c-4490-8122-922e981dc43b",
   "metadata": {},
   "outputs": [
    {
     "name": "stdout",
     "output_type": "stream",
     "text": [
      "['ACTB', 'INA', 'DYNC1H1', 'TUBA1A', 'NEFM']\n"
     ]
    }
   ],
   "source": [
    "fetal=fetal_df['Norm_Symbol'].tolist()\n",
    "ngn2=ngn2_df['Norm_Symbol'].tolist()\n",
    "print (ngn2[:5])"
   ]
  },
  {
   "cell_type": "code",
   "execution_count": 126,
   "id": "37c0e8c6-7eb2-4556-a704-315eaf7570e9",
   "metadata": {},
   "outputs": [
    {
     "name": "stdout",
     "output_type": "stream",
     "text": [
      "['TIMM9', 'ADAM9', 'PLXNA4', 'CAMK2G', 'SHANK3']\n"
     ]
    }
   ],
   "source": [
    "ctx=mouse_ctx_df['To'].tolist()\n",
    "ctx=[x.upper() for x in ctx]\n",
    "print (ctx[:5])"
   ]
  },
  {
   "cell_type": "code",
   "execution_count": 127,
   "id": "84c7142b-b6d6-441f-b675-7e6c1fd01b55",
   "metadata": {},
   "outputs": [
    {
     "name": "stdout",
     "output_type": "stream",
     "text": [
      "['LIN7C', 'SLC25A3', 'CACNG3', 'HSDL1', 'G3BP2']\n"
     ]
    }
   ],
   "source": [
    "stm=mouse_str_df['To'].tolist()\n",
    "stm=[x.upper() for x in stm]\n",
    "print (stm[:5])"
   ]
  },
  {
   "cell_type": "code",
   "execution_count": 128,
   "id": "ddf8326b-a8d1-4d18-a716-049127d01988",
   "metadata": {},
   "outputs": [
    {
     "name": "stdout",
     "output_type": "stream",
     "text": [
      "562\n"
     ]
    }
   ],
   "source": [
    "overlap=list(set(fetal)&set(ngn2)&set(ctx)&set(stm))\n",
    "print (len(overlap))"
   ]
  },
  {
   "cell_type": "code",
   "execution_count": 129,
   "id": "458512d9-b463-4421-bf33-8da3a1acf0df",
   "metadata": {},
   "outputs": [
    {
     "name": "stdout",
     "output_type": "stream",
     "text": [
      "       genes\n",
      "0       CDK5\n",
      "1      EIF4E\n",
      "2     GABRA2\n",
      "3     SEMA4F\n",
      "4      VPS35\n",
      "..       ...\n",
      "969   LRRTM2\n",
      "970     PFN1\n",
      "971  SLITRK2\n",
      "972    RAB5A\n",
      "973     PTK2\n",
      "\n",
      "[974 rows x 1 columns]\n"
     ]
    }
   ],
   "source": [
    "syngo=pd.read_csv('/cellar/users/yumei/Documents/SynSig_August2020/revisions/SynSig_Updated/source_data_files/correct_db/corr_syngo_cc.csv', index_col=[0])\n",
    "print (syngo)"
   ]
  },
  {
   "cell_type": "code",
   "execution_count": 130,
   "id": "c8527a68-8ea6-45ba-b394-2226c9355528",
   "metadata": {},
   "outputs": [],
   "source": [
    "syngo_genes=syngo['genes'].tolist()"
   ]
  },
  {
   "cell_type": "code",
   "execution_count": 131,
   "id": "2456ffcc-acbf-4fa2-97a6-0b6a7a49aed5",
   "metadata": {},
   "outputs": [
    {
     "name": "stdout",
     "output_type": "stream",
     "text": [
      "208\n"
     ]
    }
   ],
   "source": [
    "overlap_syngo=list(set(overlap)&set(syngo_genes))\n",
    "print (len(overlap_syngo))"
   ]
  },
  {
   "cell_type": "code",
   "execution_count": 132,
   "id": "647cc150-1350-4485-9b67-0a84e63bb3e0",
   "metadata": {},
   "outputs": [
    {
     "name": "stdout",
     "output_type": "stream",
     "text": [
      "         genes  avg_scores  syngo  syndb  synsysnet  cortex  striatum  fetal  \\\n",
      "478        APP    5.848907      1      0          1       1         1      1   \n",
      "3681  HSP90AB1    5.619269      0      1          0       1         1      1   \n",
      "3692     HSPA8    5.474445      1      1          1       1         1      1   \n",
      "2388      EGFR    5.469596      0      0          0       1         0      0   \n",
      "8843      TP53    5.461622      0      0          0       0         0      0   \n",
      "...        ...         ...    ...    ...        ...     ...       ...    ...   \n",
      "1217   CD300LD    3.190575      0      0          0       0         0      0   \n",
      "6308   POLDIP2    3.171931      0      0          0       0         0      0   \n",
      "7396   SCGB3A2    3.161647      0      0          0       0         0      0   \n",
      "5299   NDUFAB1    3.118118      0      0          0       1         1      0   \n",
      "8043    SPANXC    2.874914      0      0          0       0         0      0   \n",
      "\n",
      "      ngn2  Lit Sum  Exp Sum  All Sum SynSig Synapse_Status  \\\n",
      "478      1        2        4        6    yes            old   \n",
      "3681     1        1        4        5    yes            old   \n",
      "3692     1        3        4        7    yes            old   \n",
      "2388     0        0        1        1    yes            new   \n",
      "8843     0        0        0        0    yes            new   \n",
      "...    ...      ...      ...      ...    ...            ...   \n",
      "1217     0        0        0        0     no             no   \n",
      "6308     1        0        1        1     no             no   \n",
      "7396     0        0        0        0     no             no   \n",
      "5299     0        0        2        2     no             no   \n",
      "8043     0        0        0        0     no             no   \n",
      "\n",
      "      Synapse Percentile  \n",
      "478           100.000000  \n",
      "3681           99.990107  \n",
      "3692           99.980214  \n",
      "2388           99.970321  \n",
      "8843           99.960427  \n",
      "...                  ...  \n",
      "1217            0.049466  \n",
      "6308            0.039573  \n",
      "7396            0.029679  \n",
      "5299            0.019786  \n",
      "8043            0.009893  \n",
      "\n",
      "[10108 rows x 15 columns]\n"
     ]
    }
   ],
   "source": [
    "synsig_df=pd.read_csv('/cellar/users/yumei/Documents/SynSig_August2020/revisions/SynSig_Updated/analyze_synsig/update_web_table.csv', index_col=[0])\n",
    "print (synsig_df)"
   ]
  },
  {
   "cell_type": "code",
   "execution_count": 133,
   "id": "d491bbb0-d107-47ad-bb30-aa7f2ef7d357",
   "metadata": {},
   "outputs": [
    {
     "name": "stdout",
     "output_type": "stream",
     "text": [
      "         genes  avg_scores  syngo  syndb  synsysnet  cortex  striatum  fetal  \\\n",
      "478        APP    5.848907      1      0          1       1         1      1   \n",
      "3681  HSP90AB1    5.619269      0      1          0       1         1      1   \n",
      "3692     HSPA8    5.474445      1      1          1       1         1      1   \n",
      "2388      EGFR    5.469596      0      0          0       1         0      0   \n",
      "8843      TP53    5.461622      0      0          0       0         0      0   \n",
      "...        ...         ...    ...    ...        ...     ...       ...    ...   \n",
      "8039    SPAG16    4.450737      0      0          0       0         0      0   \n",
      "9675    ZFYVE9    4.450617      0      0          0       0         0      0   \n",
      "6038     PGAM1    4.450426      0      1          1       0         0      1   \n",
      "6496    PRKAB1    4.450381      0      0          0       0         0      0   \n",
      "3045   GALNT13    4.450150      0      0          0       0         0      0   \n",
      "\n",
      "      ngn2  Lit Sum  Exp Sum  All Sum SynSig Synapse_Status  \\\n",
      "478      1        2        4        6    yes            old   \n",
      "3681     1        1        4        5    yes            old   \n",
      "3692     1        3        4        7    yes            old   \n",
      "2388     0        0        1        1    yes            new   \n",
      "8843     0        0        0        0    yes            new   \n",
      "...    ...      ...      ...      ...    ...            ...   \n",
      "8039     1        0        1        1    yes            new   \n",
      "9675     0        0        0        0    yes            new   \n",
      "6038     1        2        2        4    yes            old   \n",
      "6496     0        0        0        0    yes            new   \n",
      "3045     1        0        1        1    yes            new   \n",
      "\n",
      "      Synapse Percentile  \n",
      "478           100.000000  \n",
      "3681           99.990107  \n",
      "3692           99.980214  \n",
      "2388           99.970321  \n",
      "8843           99.960427  \n",
      "...                  ...  \n",
      "8039           87.851207  \n",
      "9675           87.841314  \n",
      "6038           87.831421  \n",
      "6496           87.821528  \n",
      "3045           87.811634  \n",
      "\n",
      "[1233 rows x 15 columns]\n"
     ]
    }
   ],
   "source": [
    "synsig_only=synsig_df[synsig_df['SynSig']=='yes']\n",
    "print (synsig_only)"
   ]
  },
  {
   "cell_type": "code",
   "execution_count": 134,
   "id": "404caba2-f4da-4333-af4d-a1040ccd8fb4",
   "metadata": {},
   "outputs": [
    {
     "name": "stdout",
     "output_type": "stream",
     "text": [
      "        genes  avg_scores  syngo  syndb  synsysnet  cortex  striatum  fetal  \\\n",
      "2388     EGFR    5.469596      0      0          0       1         0      0   \n",
      "8843     TP53    5.461622      0      0          0       0         0      0   \n",
      "7894  SMARCA2    5.408467      0      0          0       0         0      0   \n",
      "2522    EP300    5.385630      0      0          0       0         0      0   \n",
      "902     BRCA1    5.373136      0      0          0       0         0      0   \n",
      "...       ...         ...    ...    ...        ...     ...       ...    ...   \n",
      "8568   TFIP11    4.450818      0      0          0       0         0      0   \n",
      "8039   SPAG16    4.450737      0      0          0       0         0      0   \n",
      "9675   ZFYVE9    4.450617      0      0          0       0         0      0   \n",
      "6496   PRKAB1    4.450381      0      0          0       0         0      0   \n",
      "3045  GALNT13    4.450150      0      0          0       0         0      0   \n",
      "\n",
      "      ngn2  Lit Sum  Exp Sum  All Sum SynSig Synapse_Status  \\\n",
      "2388     0        0        1        1    yes            new   \n",
      "8843     0        0        0        0    yes            new   \n",
      "7894     0        0        0        0    yes            new   \n",
      "2522     1        0        1        1    yes            new   \n",
      "902      0        0        0        0    yes            new   \n",
      "...    ...      ...      ...      ...    ...            ...   \n",
      "8568     0        0        0        0    yes            new   \n",
      "8039     1        0        1        1    yes            new   \n",
      "9675     0        0        0        0    yes            new   \n",
      "6496     0        0        0        0    yes            new   \n",
      "3045     1        0        1        1    yes            new   \n",
      "\n",
      "      Synapse Percentile  \n",
      "2388           99.970321  \n",
      "8843           99.960427  \n",
      "7894           99.940641  \n",
      "2522           99.930748  \n",
      "902            99.910962  \n",
      "...                  ...  \n",
      "8568           87.861100  \n",
      "8039           87.851207  \n",
      "9675           87.841314  \n",
      "6496           87.821528  \n",
      "3045           87.811634  \n",
      "\n",
      "[686 rows x 15 columns]\n",
      "364\n"
     ]
    }
   ],
   "source": [
    "synsig_genes=synsig_only['genes'].tolist()\n",
    "syngo=synsig_only[synsig_only['Lit Sum']==0]\n",
    "print (syngo)\n",
    "overlap_synsig=list(set(overlap)&set(synsig_genes+syngo_genes))\n",
    "print (len(overlap_synsig))"
   ]
  },
  {
   "cell_type": "code",
   "execution_count": 135,
   "id": "c5b80701-4b1d-4c75-948a-4f1621a68667",
   "metadata": {},
   "outputs": [
    {
     "name": "stdout",
     "output_type": "stream",
     "text": [
      "1472\n",
      "3575\n",
      "2779\n",
      "1469\n"
     ]
    }
   ],
   "source": [
    "fetal=pd.read_csv('/cellar/users/yumei/Documents/SynSig_August2020/SynSig/experimental_validation/coba_fetal_brain.csv')\n",
    "#print (fetal)\n",
    "fetal=fetal['Norm_Symbol'].tolist()\n",
    "print (len(fetal))\n",
    "\n",
    "ngn2=pd.read_csv('/cellar/users/yumei/Documents/SynSig_August2020/SynSig/experimental_validation/Coba_NGN2.csv')\n",
    "ngn2=ngn2['Norm_Symbol'].tolist()\n",
    "print (len(ngn2))\n",
    "\n",
    "ctx=pd.read_csv('/cellar/users/yumei/Documents/SynSig_August2020/SynSig/experimental_validation/formatted_Weijun_cortex.csv')\n",
    "#print (ctx)\n",
    "\n",
    "ctx=ctx['Norm_Symbol'].tolist()\n",
    "print (len(ctx))\n",
    "\n",
    "striatum=pd.read_csv('/cellar/users/yumei/Documents/SynSig_August2020/SynSig/experimental_validation/formatted_Weijun_striatum.csv')\n",
    "#print (striatum)\n",
    "\n",
    "striatum=striatum['Norm_Symbol'].tolist()\n",
    "print (len(striatum))"
   ]
  },
  {
   "cell_type": "code",
   "execution_count": 136,
   "id": "137efe4b-4b7a-48e3-a18e-4151cbe0d745",
   "metadata": {},
   "outputs": [
    {
     "name": "stdout",
     "output_type": "stream",
     "text": [
      "678\n",
      "333\n"
     ]
    }
   ],
   "source": [
    "new_overlap=list(set(fetal)&set(syngo_genes+synsig_genes))\n",
    "print (len(new_overlap))\n",
    "\n",
    "new_overlap=list(set(fetal)&set(syngo_genes))\n",
    "print (len(new_overlap))"
   ]
  },
  {
   "cell_type": "code",
   "execution_count": 137,
   "id": "1d497563-7de9-4b8d-9bee-86bf7eb8b444",
   "metadata": {},
   "outputs": [
    {
     "name": "stdout",
     "output_type": "stream",
     "text": [
      "1120\n",
      "496\n"
     ]
    }
   ],
   "source": [
    "new_overlap=list(set(ngn2)&set(syngo_genes+synsig_genes))\n",
    "print (len(new_overlap))\n",
    "\n",
    "new_overlap=list(set(ngn2)&set(syngo_genes))\n",
    "print (len(new_overlap))"
   ]
  },
  {
   "cell_type": "code",
   "execution_count": 138,
   "id": "47d4c8e9-e845-4af6-8a55-c33bfea3dbce",
   "metadata": {},
   "outputs": [
    {
     "name": "stdout",
     "output_type": "stream",
     "text": [
      "332\n",
      "184\n"
     ]
    }
   ],
   "source": [
    "new_overlap=list(set(striatum)&set(syngo_genes+synsig_genes))\n",
    "print (len(new_overlap))\n",
    "\n",
    "new_overlap=list(set(striatum)&set(syngo_genes))\n",
    "print (len(new_overlap))"
   ]
  },
  {
   "cell_type": "code",
   "execution_count": 139,
   "id": "6c8fbdf7-4a33-47d4-9d3e-579ecafdb998",
   "metadata": {},
   "outputs": [
    {
     "name": "stdout",
     "output_type": "stream",
     "text": [
      "    Supplementary Table 6. Overlap of proteins between presynaptic lists  \\\n",
      "0                                                  NaN                     \n",
      "1                                                  NaN                     \n",
      "2                                                 CLTC                     \n",
      "3                                                 SYN1                     \n",
      "4                                               SPTAN1                     \n",
      "..                                                 ...                     \n",
      "390                                               P140                     \n",
      "391                                             RASAL2                     \n",
      "392                                            S100A13                     \n",
      "393                                           SLC25A18                     \n",
      "394                                            UQCRFS1                     \n",
      "\n",
      "      Unnamed: 1 Unnamed: 2 Unnamed: 3 Unnamed: 4  Unnamed: 5 Unnamed: 6  \n",
      "0            NaN        NaN        NaN        NaN         NaN        NaN  \n",
      "1    Hippocampus   Striatum  Forebrain      Brain  Literature    Overlap  \n",
      "2              1          1          1          1           1          5  \n",
      "3              1          1          1          1           1          5  \n",
      "4              1          1          1          1           1          5  \n",
      "..           ...        ...        ...        ...         ...        ...  \n",
      "390            0          0          1          0           0          1  \n",
      "391            0          0          1          0           0          1  \n",
      "392            0          0          1          0           0          1  \n",
      "393            0          0          1          0           0          1  \n",
      "394            0          0          1          0           0          1  \n",
      "\n",
      "[395 rows x 7 columns]\n"
     ]
    }
   ],
   "source": [
    "#find literature proteomics:\n",
    "abul=pd.read_excel('/cellar/users/yumei/Documents/SynSig_August2020/revisions/SynSig_Updated/source_data_files/literature_proteomics/Abul_Husn_2009.xls', sheet_name='Table S6')\n",
    "print (abul)"
   ]
  },
  {
   "cell_type": "code",
   "execution_count": 140,
   "id": "ce34d184-597b-4a46-b88b-fe49286a66d4",
   "metadata": {},
   "outputs": [
    {
     "name": "stdout",
     "output_type": "stream",
     "text": [
      "1         NaN Hippocampus Striatum Forebrain Brain Literature Overlap\n",
      "2        CLTC           1        1         1     1          1       5\n",
      "3        SYN1           1        1         1     1          1       5\n",
      "4      SPTAN1           1        1         1     1          1       5\n",
      "5        ACTB           1        1         1     1          1       5\n",
      "6        DNM1           1        1         1     1          1       5\n",
      "..        ...         ...      ...       ...   ...        ...     ...\n",
      "390      P140           0        0         1     0          0       1\n",
      "391    RASAL2           0        0         1     0          0       1\n",
      "392   S100A13           0        0         1     0          0       1\n",
      "393  SLC25A18           0        0         1     0          0       1\n",
      "394   UQCRFS1           0        0         1     0          0       1\n",
      "\n",
      "[393 rows x 7 columns]\n"
     ]
    }
   ],
   "source": [
    "abul.columns = abul.iloc[1]\n",
    "abul=abul.drop(abul.index[1])\n",
    "abul=abul.drop(abul.index[0])\n",
    "print (abul)"
   ]
  },
  {
   "cell_type": "code",
   "execution_count": 141,
   "id": "ddb30185-7dae-4aee-89da-15239907d0c3",
   "metadata": {},
   "outputs": [
    {
     "name": "stdout",
     "output_type": "stream",
     "text": [
      "Index([nan, 'Hippocampus', 'Striatum', 'Forebrain', 'Brain', 'Literature',\n",
      "       'Overlap'],\n",
      "      dtype='object', name=1)\n"
     ]
    }
   ],
   "source": [
    "print (abul.columns)"
   ]
  },
  {
   "cell_type": "code",
   "execution_count": 142,
   "id": "288fdcb7-ba8a-4f51-a90e-fecf1ebacec9",
   "metadata": {},
   "outputs": [
    {
     "name": "stdout",
     "output_type": "stream",
     "text": [
      "        genes Hippocampus Striatum Forebrain Brain Literature Overlap\n",
      "2        CLTC           1        1         1     1          1       5\n",
      "3        SYN1           1        1         1     1          1       5\n",
      "4      SPTAN1           1        1         1     1          1       5\n",
      "5        ACTB           1        1         1     1          1       5\n",
      "6        DNM1           1        1         1     1          1       5\n",
      "..        ...         ...      ...       ...   ...        ...     ...\n",
      "390      P140           0        0         1     0          0       1\n",
      "391    RASAL2           0        0         1     0          0       1\n",
      "392   S100A13           0        0         1     0          0       1\n",
      "393  SLC25A18           0        0         1     0          0       1\n",
      "394   UQCRFS1           0        0         1     0          0       1\n",
      "\n",
      "[393 rows x 7 columns]\n"
     ]
    }
   ],
   "source": [
    "abul.columns=['genes', 'Hippocampus', 'Striatum', 'Forebrain', 'Brain', 'Literature','Overlap']\n",
    "print (abul)"
   ]
  },
  {
   "cell_type": "code",
   "execution_count": 143,
   "id": "b5a837cb-73ee-420c-8159-c4996d67f3a0",
   "metadata": {},
   "outputs": [
    {
     "name": "stdout",
     "output_type": "stream",
     "text": [
      "393\n",
      "208\n",
      "142\n"
     ]
    }
   ],
   "source": [
    "abul_genes=abul['genes'].tolist()\n",
    "print (len(abul_genes))\n",
    "overlap_abul_synsig=list(set(abul_genes)&set(synsig_genes+syngo_genes))\n",
    "print (len(overlap_abul_synsig))\n",
    "overlap_abul_syngo=list(set(abul_genes)&set(syngo_genes))\n",
    "print (len(overlap_abul_syngo))\n"
   ]
  },
  {
   "cell_type": "code",
   "execution_count": 144,
   "id": "748a90c8-aee1-458d-a3ab-de236618894b",
   "metadata": {},
   "outputs": [
    {
     "name": "stdout",
     "output_type": "stream",
     "text": [
      "     PROTEIN IDENTIFICATION NUMBERS   Unnamed: 1           Unnamed: 2  \\\n",
      "0                             G2Cdb       IPI ID  Approved Gene Name    \n",
      "1                         G00002130  IPI00479760                 AAK1   \n",
      "2                               NaN  IPI00027442                 AARS   \n",
      "3                               NaN  IPI00250297             AASDHPPT   \n",
      "4                         G00001990  IPI00019022                ABCB8   \n",
      "...                             ...          ...                  ...   \n",
      "1457                      G00001397  IPI00000816                YWHAE   \n",
      "1458                      G00001399  IPI00220642                YWHAG   \n",
      "1459                      G00001398  IPI00216319                YWHAH   \n",
      "1460                      G00002307  IPI00018146                YWHAQ   \n",
      "1461                      G00002535  IPI00021263                YWHAZ   \n",
      "\n",
      "      Unnamed: 3       Unnamed: 4      Unnamed: 5      Unnamed: 6  Unnamed: 7  \\\n",
      "0        HGNC ID       Ensembl ID  Entrez Gene ID  OMIM (Gene) ID  UniProt ID   \n",
      "1     HGNC:19679  ENSG00000115977           22848             NaN      Q2M2I8   \n",
      "2        HGNC:20  ENSG00000090861              16          601065      P49588   \n",
      "3     HGNC:14235  ENSG00000149313           60496          607756      Q9NRN7   \n",
      "4        HGNC:49  ENSG00000197150           11194          605464      Q9NUT2   \n",
      "...          ...              ...             ...             ...         ...   \n",
      "1457  HGNC:12851  ENSG00000108953            7531          605066      P62258   \n",
      "1458  HGNC:12852  ENSG00000170027            7532          605356      P61981   \n",
      "1459  HGNC:12853  ENSG00000128245            7533          113508      Q04917   \n",
      "1460  HGNC:12854  ENSG00000134308           10971          609009      P27348   \n",
      "1461  HGNC:12855  ENSG00000164924            7534          601288      P63104   \n",
      "\n",
      "                         PROTEOMIC DATA                      Unnamed: 9  \\\n",
      "0     Total Number of Unique Peptides    Unique Peptides, 1st Replicate   \n",
      "1                                     7                               3   \n",
      "2                                    12                               7   \n",
      "3                                     2                               1   \n",
      "4                                     2                               2   \n",
      "...                                 ...                             ...   \n",
      "1457                                 13                              10   \n",
      "1458                                 13                              11   \n",
      "1459                                 11                               7   \n",
      "1460                                 11                               7   \n",
      "1461                                 15                               8   \n",
      "\n",
      "                         Unnamed: 10                     Unnamed: 11  \\\n",
      "0     Unique Peptides, 2nd Replicate  Unique Peptides, 3rd Replicate   \n",
      "1                                  7                               3   \n",
      "2                                 12                               6   \n",
      "3                                  1                             NaN   \n",
      "4                                  1                             NaN   \n",
      "...                              ...                             ...   \n",
      "1457                              11                               9   \n",
      "1458                              12                              11   \n",
      "1459                              10                               7   \n",
      "1460                              10                               7   \n",
      "1461                              15                              11   \n",
      "\n",
      "           Unnamed: 12      Unnamed: 13             Unnamed: 14  \n",
      "0     Consensus hPSD    Shared Peptides  Unambiguously Detected  \n",
      "1                  YES              NaN                     YES  \n",
      "2                  YES              NaN                     YES  \n",
      "3                  NaN              NaN                     YES  \n",
      "4                  NaN              NaN                     YES  \n",
      "...                ...              ...                     ...  \n",
      "1457               YES              NaN                     YES  \n",
      "1458               YES              NaN                     YES  \n",
      "1459               YES              NaN                     YES  \n",
      "1460               YES              NaN                     YES  \n",
      "1461               YES              NaN                     YES  \n",
      "\n",
      "[1462 rows x 15 columns]\n"
     ]
    }
   ],
   "source": [
    "df=pd.read_excel('/cellar/users/yumei/Documents/SynSig_August2020/revisions/SynSig_Updated/source_data_files/literature_proteomics/Bayes_Synapse_2011.xls', sheet_name='Supplementary Table 2')\n",
    "print (df)"
   ]
  },
  {
   "cell_type": "code",
   "execution_count": 145,
   "id": "11811d6f-5c6c-497e-9194-a6e98a167c2c",
   "metadata": {},
   "outputs": [
    {
     "name": "stdout",
     "output_type": "stream",
     "text": [
      "0         G2Cdb       IPI ID  Approved Gene Name      HGNC ID  \\\n",
      "0         G2Cdb       IPI ID  Approved Gene Name      HGNC ID   \n",
      "1     G00002130  IPI00479760                 AAK1  HGNC:19679   \n",
      "2           NaN  IPI00027442                 AARS     HGNC:20   \n",
      "3           NaN  IPI00250297             AASDHPPT  HGNC:14235   \n",
      "4     G00001990  IPI00019022                ABCB8     HGNC:49   \n",
      "...         ...          ...                  ...         ...   \n",
      "1457  G00001397  IPI00000816                YWHAE  HGNC:12851   \n",
      "1458  G00001399  IPI00220642                YWHAG  HGNC:12852   \n",
      "1459  G00001398  IPI00216319                YWHAH  HGNC:12853   \n",
      "1460  G00002307  IPI00018146                YWHAQ  HGNC:12854   \n",
      "1461  G00002535  IPI00021263                YWHAZ  HGNC:12855   \n",
      "\n",
      "0          Ensembl ID  Entrez Gene ID  OMIM (Gene) ID  UniProt ID  \\\n",
      "0          Ensembl ID  Entrez Gene ID  OMIM (Gene) ID  UniProt ID   \n",
      "1     ENSG00000115977           22848             NaN      Q2M2I8   \n",
      "2     ENSG00000090861              16          601065      P49588   \n",
      "3     ENSG00000149313           60496          607756      Q9NRN7   \n",
      "4     ENSG00000197150           11194          605464      Q9NUT2   \n",
      "...               ...             ...             ...         ...   \n",
      "1457  ENSG00000108953            7531          605066      P62258   \n",
      "1458  ENSG00000170027            7532          605356      P61981   \n",
      "1459  ENSG00000128245            7533          113508      Q04917   \n",
      "1460  ENSG00000134308           10971          609009      P27348   \n",
      "1461  ENSG00000164924            7534          601288      P63104   \n",
      "\n",
      "0     Total Number of Unique Peptides    Unique Peptides, 1st Replicate  \\\n",
      "0     Total Number of Unique Peptides    Unique Peptides, 1st Replicate   \n",
      "1                                     7                               3   \n",
      "2                                    12                               7   \n",
      "3                                     2                               1   \n",
      "4                                     2                               2   \n",
      "...                                 ...                             ...   \n",
      "1457                                 13                              10   \n",
      "1458                                 13                              11   \n",
      "1459                                 11                               7   \n",
      "1460                                 11                               7   \n",
      "1461                                 15                               8   \n",
      "\n",
      "0     Unique Peptides, 2nd Replicate  Unique Peptides, 3rd Replicate  \\\n",
      "0     Unique Peptides, 2nd Replicate  Unique Peptides, 3rd Replicate   \n",
      "1                                  7                               3   \n",
      "2                                 12                               6   \n",
      "3                                  1                             NaN   \n",
      "4                                  1                             NaN   \n",
      "...                              ...                             ...   \n",
      "1457                              11                               9   \n",
      "1458                              12                              11   \n",
      "1459                              10                               7   \n",
      "1460                              10                               7   \n",
      "1461                              15                              11   \n",
      "\n",
      "0     Consensus hPSD    Shared Peptides  Unambiguously Detected  \n",
      "0     Consensus hPSD    Shared Peptides  Unambiguously Detected  \n",
      "1                  YES              NaN                     YES  \n",
      "2                  YES              NaN                     YES  \n",
      "3                  NaN              NaN                     YES  \n",
      "4                  NaN              NaN                     YES  \n",
      "...                ...              ...                     ...  \n",
      "1457               YES              NaN                     YES  \n",
      "1458               YES              NaN                     YES  \n",
      "1459               YES              NaN                     YES  \n",
      "1460               YES              NaN                     YES  \n",
      "1461               YES              NaN                     YES  \n",
      "\n",
      "[1462 rows x 15 columns]\n"
     ]
    }
   ],
   "source": [
    "df.columns = df.iloc[0]\n",
    "print (df)"
   ]
  },
  {
   "cell_type": "code",
   "execution_count": 146,
   "id": "111273c4-f05a-4c8c-b4ea-c2068bf6e7eb",
   "metadata": {},
   "outputs": [
    {
     "name": "stdout",
     "output_type": "stream",
     "text": [
      "0         G2Cdb       IPI ID Approved Gene Name      HGNC ID       Ensembl ID  \\\n",
      "1     G00002130  IPI00479760                AAK1  HGNC:19679  ENSG00000115977   \n",
      "2           NaN  IPI00027442                AARS     HGNC:20  ENSG00000090861   \n",
      "3           NaN  IPI00250297            AASDHPPT  HGNC:14235  ENSG00000149313   \n",
      "4     G00001990  IPI00019022               ABCB8     HGNC:49  ENSG00000197150   \n",
      "5           NaN  IPI00291373               ABCD1     HGNC:61  ENSG00000214330   \n",
      "...         ...          ...                 ...         ...              ...   \n",
      "1457  G00001397  IPI00000816               YWHAE  HGNC:12851  ENSG00000108953   \n",
      "1458  G00001399  IPI00220642               YWHAG  HGNC:12852  ENSG00000170027   \n",
      "1459  G00001398  IPI00216319               YWHAH  HGNC:12853  ENSG00000128245   \n",
      "1460  G00002307  IPI00018146               YWHAQ  HGNC:12854  ENSG00000134308   \n",
      "1461  G00002535  IPI00021263               YWHAZ  HGNC:12855  ENSG00000164924   \n",
      "\n",
      "0    Entrez Gene ID OMIM (Gene) ID UniProt ID  \\\n",
      "1             22848            NaN     Q2M2I8   \n",
      "2                16         601065     P49588   \n",
      "3             60496         607756     Q9NRN7   \n",
      "4             11194         605464     Q9NUT2   \n",
      "5               215         300371     P33897   \n",
      "...             ...            ...        ...   \n",
      "1457           7531         605066     P62258   \n",
      "1458           7532         605356     P61981   \n",
      "1459           7533         113508     Q04917   \n",
      "1460          10971         609009     P27348   \n",
      "1461           7534         601288     P63104   \n",
      "\n",
      "0    Total Number of Unique Peptides   Unique Peptides, 1st Replicate  \\\n",
      "1                                    7                              3   \n",
      "2                                   12                              7   \n",
      "3                                    2                              1   \n",
      "4                                    2                              2   \n",
      "5                                    3                              3   \n",
      "...                                ...                            ...   \n",
      "1457                                13                             10   \n",
      "1458                                13                             11   \n",
      "1459                                11                              7   \n",
      "1460                                11                              7   \n",
      "1461                                15                              8   \n",
      "\n",
      "0    Unique Peptides, 2nd Replicate Unique Peptides, 3rd Replicate  \\\n",
      "1                                 7                              3   \n",
      "2                                12                              6   \n",
      "3                                 1                            NaN   \n",
      "4                                 1                            NaN   \n",
      "5                               NaN                            NaN   \n",
      "...                             ...                            ...   \n",
      "1457                             11                              9   \n",
      "1458                             12                             11   \n",
      "1459                             10                              7   \n",
      "1460                             10                              7   \n",
      "1461                             15                             11   \n",
      "\n",
      "0    Consensus hPSD   Shared Peptides Unambiguously Detected  \n",
      "1                 YES             NaN                    YES  \n",
      "2                 YES             NaN                    YES  \n",
      "3                 NaN             NaN                    YES  \n",
      "4                 NaN             NaN                    YES  \n",
      "5                 NaN             NaN                    YES  \n",
      "...               ...             ...                    ...  \n",
      "1457              YES             NaN                    YES  \n",
      "1458              YES             NaN                    YES  \n",
      "1459              YES             NaN                    YES  \n",
      "1460              YES             NaN                    YES  \n",
      "1461              YES             NaN                    YES  \n",
      "\n",
      "[1461 rows x 15 columns]\n",
      "Index(['G2Cdb', 'IPI ID', 'Approved Gene Name ', 'HGNC ID', 'Ensembl ID',\n",
      "       'Entrez Gene ID', 'OMIM (Gene) ID', 'UniProt ID',\n",
      "       'Total Number of Unique Peptides  ', 'Unique Peptides, 1st Replicate',\n",
      "       'Unique Peptides, 2nd Replicate', 'Unique Peptides, 3rd Replicate',\n",
      "       'Consensus hPSD  ', 'Shared Peptides', 'Unambiguously Detected'],\n",
      "      dtype='object', name=0)\n"
     ]
    }
   ],
   "source": [
    "df=df.drop(df.index[0])\n",
    "print (df)\n",
    "print (df.columns)"
   ]
  },
  {
   "cell_type": "code",
   "execution_count": 147,
   "id": "9b2b2d3e-68bf-43f0-a616-3c2ba1784f53",
   "metadata": {},
   "outputs": [
    {
     "name": "stdout",
     "output_type": "stream",
     "text": [
      "688\n",
      "382\n"
     ]
    }
   ],
   "source": [
    "bayes_2011_genes=df['Approved Gene Name '].tolist()\n",
    "overlap_bayes=list(set(bayes_2011_genes)&set(syngo_genes+synsig_genes))\n",
    "print (len(overlap_bayes))\n",
    "overlap_syngo=list(set(bayes_2011_genes)&set(syngo_genes))\n",
    "print (len(overlap_syngo))"
   ]
  },
  {
   "cell_type": "code",
   "execution_count": 148,
   "id": "0486a63e-b468-44a4-adc0-de942dc5418f",
   "metadata": {},
   "outputs": [
    {
     "name": "stdout",
     "output_type": "stream",
     "text": [
      "           Gene  Symbol       Species  \\\n",
      "0     G00000026  GRIN2A  Homo sapiens   \n",
      "1     G00000027  GRIN2B  Homo sapiens   \n",
      "2     G00000028     ARC  Homo sapiens   \n",
      "3     G00000029    DLG4  Homo sapiens   \n",
      "4     G00000030    NOS1  Homo sapiens   \n",
      "...         ...     ...           ...   \n",
      "1551  G00006978  YTHDF2  Homo sapiens   \n",
      "1552  G00006979  YTHDF3  Homo sapiens   \n",
      "1553  G00006980  ZDHHC8  Homo sapiens   \n",
      "1554  G00006981  ZNF365  Homo sapiens   \n",
      "1555  G00006982   ZFPL1  Homo sapiens   \n",
      "\n",
      "                                            Description  \n",
      "0     glutamate receptor, ionotropic, N-methyl D-asp...  \n",
      "1     glutamate receptor, ionotropic, N-methyl D-asp...  \n",
      "2     activity-regulated cytoskeleton-associated pro...  \n",
      "3                   discs, large homolog 4 (Drosophila)  \n",
      "4                    nitric oxide synthase 1 (neuronal)  \n",
      "...                                                 ...  \n",
      "1551                        YTH domain family, member 2  \n",
      "1552                        YTH domain family, member 3  \n",
      "1553                zinc finger, DHHC-type containing 8  \n",
      "1554                            zinc finger protein 365  \n",
      "1555                         zinc finger protein-like 1  \n",
      "\n",
      "[1556 rows x 4 columns]\n"
     ]
    }
   ],
   "source": [
    "#https://journals.plos.org/plosone/article?id=10.1371/journal.pone.0046683\n",
    "#downloaded from https://genes2cognition.org/proteomics/\n",
    "#downloaded 1/10/23\n",
    "wdir='/cellar/users/yumei/Documents/SynSig_August2020/revisions/SynSig_Updated/source_data_files/literature_proteomics'\n",
    "df=pd.read_excel(wdir+'/Bayes_2012_mouse_human_orthologs_ctx_psd.xls')\n",
    "print (df)"
   ]
  },
  {
   "cell_type": "code",
   "execution_count": 149,
   "id": "9048dd76-9437-420e-a8cc-0d92b72f72db",
   "metadata": {},
   "outputs": [
    {
     "name": "stdout",
     "output_type": "stream",
     "text": [
      "1556\n"
     ]
    }
   ],
   "source": [
    "bayes_2012_genes=df['Symbol'].tolist()\n",
    "print (len(bayes_2012_genes))"
   ]
  },
  {
   "cell_type": "code",
   "execution_count": 150,
   "id": "7fa21e6e-52ce-4117-8e70-28ddf474e7a0",
   "metadata": {},
   "outputs": [
    {
     "name": "stdout",
     "output_type": "stream",
     "text": [
      "475\n",
      "762\n"
     ]
    }
   ],
   "source": [
    "overlap_bayes_mouse=list(set(bayes_2012_genes)&set(syngo_genes))\n",
    "print (len(overlap_bayes_mouse))\n",
    "\n",
    "overlap_bayes_mouse=list(set(bayes_2012_genes)&set(syngo_genes+synsig_genes))\n",
    "print (len(overlap_bayes_mouse))"
   ]
  },
  {
   "cell_type": "code",
   "execution_count": 151,
   "id": "7afadb14-d40e-4ceb-a2ac-337f32f8577a",
   "metadata": {},
   "outputs": [
    {
     "name": "stdout",
     "output_type": "stream",
     "text": [
      "          Gene  Symbol       Species  \\\n",
      "0    G00000026  GRIN2A  Homo sapiens   \n",
      "1    G00000027  GRIN2B  Homo sapiens   \n",
      "2    G00000028     ARC  Homo sapiens   \n",
      "3    G00000029    DLG4  Homo sapiens   \n",
      "4    G00000030    NOS1  Homo sapiens   \n",
      "..         ...     ...           ...   \n",
      "979  G00006960   WDR20  Homo sapiens   \n",
      "980  G00006961   WDR48  Homo sapiens   \n",
      "981  G00006966   WIPF2  Homo sapiens   \n",
      "982  G00006981  ZNF365  Homo sapiens   \n",
      "983  G00006982   ZFPL1  Homo sapiens   \n",
      "\n",
      "                                           Description  \n",
      "0    glutamate receptor, ionotropic, N-methyl D-asp...  \n",
      "1    glutamate receptor, ionotropic, N-methyl D-asp...  \n",
      "2    activity-regulated cytoskeleton-associated pro...  \n",
      "3                  discs, large homolog 4 (Drosophila)  \n",
      "4                   nitric oxide synthase 1 (neuronal)  \n",
      "..                                                 ...  \n",
      "979                                WD repeat domain 20  \n",
      "980                                WD repeat domain 48  \n",
      "981      WAS/WASL interacting protein family, member 2  \n",
      "982                            zinc finger protein 365  \n",
      "983                         zinc finger protein-like 1  \n",
      "\n",
      "[984 rows x 4 columns]\n"
     ]
    }
   ],
   "source": [
    "df=pd.read_excel(wdir+'/Bayes_2012_mouse_human_orthologs_consensus_ctx_psd.xls')\n",
    "print (df)"
   ]
  },
  {
   "cell_type": "code",
   "execution_count": 152,
   "id": "fc486f91-173a-4a41-8796-a51522eff53d",
   "metadata": {},
   "outputs": [
    {
     "name": "stdout",
     "output_type": "stream",
     "text": [
      "984\n",
      "547\n",
      "358\n"
     ]
    }
   ],
   "source": [
    "bayes_2012_consensus=df['Symbol'].tolist()\n",
    "print (len(bayes_2012_consensus))\n",
    "\n",
    "overlap=list(set(bayes_2012_consensus)&set(syngo_genes+synsig_genes))\n",
    "print (len(overlap))\n",
    "\n",
    "overlap=list(set(bayes_2012_consensus)&set(syngo_genes))\n",
    "print (len(overlap))\n",
    "\n"
   ]
  },
  {
   "cell_type": "code",
   "execution_count": 153,
   "id": "7a5f1c12-6114-4c58-a72f-0b6b6f599f72",
   "metadata": {},
   "outputs": [
    {
     "name": "stdout",
     "output_type": "stream",
     "text": [
      "       Internal ID Detected Mouse Detected Human (PMID:21170055)  \\\n",
      "0     ab16moc_919c      AMBIGUOUS                      AMBIGUOUS   \n",
      "1     ab16moc_919a      AMBIGUOUS                      AMBIGUOUS   \n",
      "2     ab16moc_919b      AMBIGUOUS                      AMBIGUOUS   \n",
      "3      ab16moc_920            YES                      AMBIGUOUS   \n",
      "4      ab16moc_925            YES                      AMBIGUOUS   \n",
      "...            ...            ...                            ...   \n",
      "1993   ab16moc_753            YES                            NaN   \n",
      "1994   ab16moc_861            YES                            NaN   \n",
      "1995   ab16moc_864            YES                            NaN   \n",
      "1996   ab16moc_870            YES                            NaN   \n",
      "1997   ab16moc_979            YES                            NaN   \n",
      "\n",
      "     Appr Gene (m)       MGI ID Appr Gene (h)     HGNC ID         Ensembl (m)  \\\n",
      "0            Calm3   MGI:103249         CALM3   HGNC:1449  ENSMUSG00000019370   \n",
      "1            Calm1    MGI:88251         CALM1   HGNC:1442  ENSMUSG00000001175   \n",
      "2            Calm2   MGI:103250         CALM2   HGNC:1445  ENSMUSG00000036438   \n",
      "3             Arf3    MGI:99432          ARF3    HGNC:654  ENSMUSG00000051853   \n",
      "4             Arf1    MGI:99431          ARF1    HGNC:652  ENSMUSG00000048076   \n",
      "...            ...          ...           ...         ...                 ...   \n",
      "1993         Celf2  MGI:1338822         CELF2   HGNC:2550  ENSMUSG00000002107   \n",
      "1994        Iglon5  MGI:2686277        IGLON5  HGNC:34550  ENSMUSG00000013367   \n",
      "1995        Shisa6  MGI:2685725        SHISA6  HGNC:34491  ENSMUSG00000053930   \n",
      "1996        Gm1337  MGI:2686183     NOT_FOUND   NOT_FOUND  ENSMUSG00000078137   \n",
      "1997         Rps26  MGI:1351628       RPS26P8  HGNC:31329  ENSMUSG00000025362   \n",
      "\n",
      "          Ensembl (h) Entrez Gene (m)  ...      IPI (h)  \\\n",
      "0     ENSG00000160014           12315  ...  IPI00386621   \n",
      "1     ENSG00000160014           12313  ...  IPI00386621   \n",
      "2     ENSG00000143933           12314  ...  IPI00386621   \n",
      "3     ENSG00000134287           11842  ...  IPI00215917   \n",
      "4     ENSG00000143761           11840  ...  IPI00215914   \n",
      "...               ...             ...  ...          ...   \n",
      "1993  ENSG00000048740           14007  ...          NaN   \n",
      "1994  ENSG00000142549          210094  ...          NaN   \n",
      "1995  ENSG00000188803          380702  ...          NaN   \n",
      "1996        NOT_FOUND       NOT_FOUND  ...          NaN   \n",
      "1997  ENSG00000204652           27370  ...  IPI00187140   \n",
      "\n",
      "                                        Description (h)  UP (h)  \\\n",
      "0     IPI:IPI00386621.1|TREMBL:Q9BRL5 Tax_Id=9606 Ge...  P62158   \n",
      "1     IPI:IPI00386621.1|TREMBL:Q9BRL5 Tax_Id=9606 Ge...  P62158   \n",
      "2     IPI:IPI00386621.1|TREMBL:Q9BRL5 Tax_Id=9606 Ge...  P62158   \n",
      "3     IPI:IPI00215917.3|SWISS-PROT:P61204|ENSEMBL:EN...  P61204   \n",
      "4     IPI:IPI00215914.5|SWISS-PROT:P84077|ENSEMBL:EN...  P84077   \n",
      "...                                                 ...     ...   \n",
      "1993                                                NaN     NaN   \n",
      "1994                                                NaN     NaN   \n",
      "1995                                                NaN     NaN   \n",
      "1996                                                NaN     NaN   \n",
      "1997  IPI:IPI00187140.1|SWISS-PROT:Q5JNZ5|ENSEMBL:EN...  Q5JNZ5   \n",
      "\n",
      "                             Shared peptides mPSD 010203 mPSD01 mPSD02 mPSD03  \\\n",
      "0     Shared peptides with CALM1|CALM2|CALM3         4.0    1.0    1.0    4.0   \n",
      "1     Shared peptides with CALM1|CALM2|CALM3         4.0    1.0    1.0    4.0   \n",
      "2     Shared peptides with CALM1|CALM2|CALM3         4.0    1.0    1.0    4.0   \n",
      "3                  Shared peptides with ARF1         4.0    4.0    3.0    3.0   \n",
      "4                  Shared peptides with ARF3         4.0    4.0    3.0    3.0   \n",
      "...                                      ...         ...    ...    ...    ...   \n",
      "1993                                     NaN         6.0    3.0    NaN    4.0   \n",
      "1994                                     NaN         5.0    3.0    3.0    4.0   \n",
      "1995                                     NaN         5.0    2.0    2.0    4.0   \n",
      "1996                                     NaN         5.0    3.0    3.0    3.0   \n",
      "1997                                     NaN         4.0    2.0    1.0    4.0   \n",
      "\n",
      "     Present in 3 replicas (m) Present in 3 replicas (h) (PMID:21170055)  \n",
      "0                          NaN                                       NaN  \n",
      "1                          NaN                                       NaN  \n",
      "2                          NaN                                       NaN  \n",
      "3                          YES                                       YES  \n",
      "4                          YES                                       YES  \n",
      "...                        ...                                       ...  \n",
      "1993                       NaN                                       NaN  \n",
      "1994                       YES                                       NaN  \n",
      "1995                       YES                                       NaN  \n",
      "1996                       YES                                       NaN  \n",
      "1997                       NaN                                       NaN  \n",
      "\n",
      "[1998 rows x 27 columns]\n"
     ]
    }
   ],
   "source": [
    "#human synapse proteome:\n",
    "df=pd.read_excel(wdir+'/Bayes_2012.xlsx', sheet_name='Table S1')\n",
    "print (df)"
   ]
  },
  {
   "cell_type": "code",
   "execution_count": 154,
   "id": "b1592593-497d-456a-9692-14f2ba41db43",
   "metadata": {},
   "outputs": [
    {
     "name": "stdout",
     "output_type": "stream",
     "text": [
      "['MRPS36', 'PRR7', 'USMG5', 'CEND1', 'KIAA1045']\n",
      "1451\n",
      "690\n",
      "385\n"
     ]
    }
   ],
   "source": [
    "human_df=df[df['Detected Human (PMID:21170055)']=='YES']\n",
    "#print (human_df)\n",
    "bayes_2012_human=human_df['Appr Gene (h)'].tolist()\n",
    "print (bayes_2012_human[:5])\n",
    "print (len(bayes_2012_human))\n",
    "\n",
    "overlap=list(set(bayes_2012_human)&set(syngo_genes+synsig_genes))\n",
    "print (len(overlap))\n",
    "\n",
    "overlap=list(set(bayes_2012_human)&set(syngo_genes))\n",
    "print (len(overlap))\n",
    "\n"
   ]
  },
  {
   "cell_type": "code",
   "execution_count": 155,
   "id": "0d252f3b-c240-465d-a1fc-67abbe2d87e4",
   "metadata": {},
   "outputs": [
    {
     "name": "stdout",
     "output_type": "stream",
     "text": [
      "['Export Summary', 'Legend', 'All mouse proteins identified', 'Mouse_Prot_Relative abundance', 'Final List Mouse SYN-PSD prote ']\n"
     ]
    }
   ],
   "source": [
    "#Bayes 2017:\n",
    "#Evolution of complexity in the zebrafish synapse proteome\n",
    "\n",
    "from openpyxl import load_workbook\n",
    "wb = load_workbook(filename = wdir+'/Bayes_2017_mouse.xlsx')\n",
    "print (wb.sheetnames)"
   ]
  },
  {
   "cell_type": "code",
   "execution_count": 156,
   "id": "db052250-1127-4e9d-9a6b-9f978bc02b8c",
   "metadata": {},
   "outputs": [
    {
     "name": "stdout",
     "output_type": "stream",
     "text": [
      "              ENSEBLE ID Associated Gene Name  \\\n",
      "0     ENSMUSG00000037072                Sep15   \n",
      "1     ENSMUSG00000050705        2310061I04Rik   \n",
      "2     ENSMUSG00000040412        5330417C22Rik   \n",
      "3     ENSMUSG00000026944                Abca2   \n",
      "4     ENSMUSG00000041797                Abca9   \n",
      "...                  ...                  ...   \n",
      "3574  ENSMUSG00000000827              Tpd52l2   \n",
      "3575  ENSMUSG00000020308                Tpgs1   \n",
      "3576  ENSMUSG00000034799               Unc13a   \n",
      "3577  ENSMUSG00000038013                Wipf2   \n",
      "3578  ENSMUSG00000045414        1190002N15Rik   \n",
      "\n",
      "                                            Description       MGI ID SYN ONLY  \\\n",
      "0                                        selenoprotein   MGI:1927947      YES   \n",
      "1                           RIKEN cDNA 2310061I04 gene   MGI:1916912      YES   \n",
      "2                           RIKEN cDNA 5330417C22 gene   MGI:1923930      YES   \n",
      "3     ATP-binding cassette, sub-family A (ABC1), mem...    MGI:99606      YES   \n",
      "4     ATP-binding cassette, sub-family A (ABC1), mem...  MGI:2386796      YES   \n",
      "...                                                 ...          ...      ...   \n",
      "3574                          tumor protein D52-like 2   MGI:1913564      NaN   \n",
      "3575         tubulin polyglutamylase complex subunit 1    MGI:106618      NaN   \n",
      "3576                     unc-13 homolog A (C. elegans)   MGI:3051532      NaN   \n",
      "3577     WAS/WASL interacting protein family, member 2   MGI:1924462      NaN   \n",
      "3578                        RIKEN cDNA 1190002N15 gene   MGI:1916111      NaN   \n",
      "\n",
      "     PSD ONLY EQUAL ABUNDANCE PSD Depleted PSD enriched  \\\n",
      "0         NaN             NaN          NaN          NaN   \n",
      "1         NaN             NaN          NaN          NaN   \n",
      "2         NaN             NaN          NaN          NaN   \n",
      "3         NaN             NaN          NaN          NaN   \n",
      "4         NaN             NaN          NaN          NaN   \n",
      "...       ...             ...          ...          ...   \n",
      "3574      YES             NaN          NaN          NaN   \n",
      "3575      YES             NaN          NaN          NaN   \n",
      "3576      YES             NaN          NaN          NaN   \n",
      "3577      YES             NaN          NaN          NaN   \n",
      "3578      YES             NaN          NaN          NaN   \n",
      "\n",
      "     PSD component (PSD only + PSD Enriched + Equal abundance)  ...  \\\n",
      "0                                                   NaN         ...   \n",
      "1                                                   NaN         ...   \n",
      "2                                                   NaN         ...   \n",
      "3                                                   NaN         ...   \n",
      "4                                                   NaN         ...   \n",
      "...                                                 ...         ...   \n",
      "3574                                                YES         ...   \n",
      "3575                                                YES         ...   \n",
      "3576                                                YES         ...   \n",
      "3577                                                YES         ...   \n",
      "3578                                                YES         ...   \n",
      "\n",
      "     Potential contaminant    id  \\\n",
      "0                      NaN  4055   \n",
      "1                      NaN   423   \n",
      "2                      NaN    64   \n",
      "3                      NaN   225   \n",
      "4                      NaN  3297   \n",
      "...                    ...   ...   \n",
      "3574                   NaN  1036   \n",
      "3575                   NaN  3641   \n",
      "3576                   NaN  1210   \n",
      "3577                   NaN  2683   \n",
      "3578                   NaN  2335   \n",
      "\n",
      "                                            Peptide IDs  \\\n",
      "0                               12256;12257;22295;23083   \n",
      "1                         15290;22595;23847;24728;34247   \n",
      "2                                      1544;16917;38902   \n",
      "3     1797;4909;4935;7007;8115;10614;11519;13716;149...   \n",
      "4     12200;25922;35264;35587;36643;37941;39091;4039...   \n",
      "...                                                 ...   \n",
      "3574                 1608;22235;37005;39120;39323;39324   \n",
      "3575                                        32525;41113   \n",
      "3576  550;3141;4886;5886;9401;9450;9620;10400;12292;...   \n",
      "3577                           68;5145;7940;12791;31772   \n",
      "3578                             6664;14573;23097;41364   \n",
      "\n",
      "                                       Peptide is razor  \\\n",
      "0                                   True;True;True;True   \n",
      "1                              True;True;True;True;True   \n",
      "2                                        True;True;True   \n",
      "3     True;True;True;True;True;True;True;True;True;T...   \n",
      "4          True;True;True;True;True;True;True;True;True   \n",
      "...                                                 ...   \n",
      "3574                      True;True;True;True;True;True   \n",
      "3575                                          True;True   \n",
      "3576  True;True;True;True;True;True;True;True;True;T...   \n",
      "3577                           True;True;True;True;True   \n",
      "3578                                True;True;True;True   \n",
      "\n",
      "                                       Mod. peptide IDs  \\\n",
      "0                               13446;13447;24485;25340   \n",
      "1                   16756;24808;24809;26182;27142;38075   \n",
      "2                                      1710;18543;43188   \n",
      "3     1991;5421;5447;5448;7739;8944;11653;12641;1506...   \n",
      "4     13385;28425;39164;39551;40694;42101;43387;4483...   \n",
      "...                                                 ...   \n",
      "3574                 1779;24418;41086;43417;43637;43638   \n",
      "3575                                        36214;45627   \n",
      "3576  612;3497;5397;6489;10341;10395;10576;10577;114...   \n",
      "3577                           74;5678;8753;14031;35413   \n",
      "3578                             7364;15984;25354;45906   \n",
      "\n",
      "                                           Evidence IDs  \\\n",
      "0     129047;129048;129049;129050;129051;244277;2442...   \n",
      "1     161030;247832;247833;261765;261766;271230;2712...   \n",
      "2     17327;17328;17329;17330;17331;17332;180367;180...   \n",
      "3     20350;20351;20352;53939;53940;53941;54098;5409...   \n",
      "4     128397;128398;284555;284556;284557;284558;2845...   \n",
      "...                                                 ...   \n",
      "3574  17985;17986;17987;17988;17989;17990;17991;1799...   \n",
      "3575          360141;360142;360143;456612;456613;456614   \n",
      "3576  6155;6156;35973;35974;35975;35976;35977;35978;...   \n",
      "3577  665;666;56228;56229;56230;56231;56232;85478;85...   \n",
      "3578  72660;72661;72662;72663;72664;153070;253932;45...   \n",
      "\n",
      "                                              MS/MS IDs  \\\n",
      "0     88636;88637;88638;88639;169889;169890;169891;1...   \n",
      "1     111189;172343;172344;181818;188291;188292;1882...   \n",
      "2                             12202;12203;125134;298869   \n",
      "3     14384;14385;37244;37245;37359;37360;52822;5282...   \n",
      "4     88204;197217;197218;270335;270336;270337;27033...   \n",
      "...                                                 ...   \n",
      "3574  12667;12668;12669;12670;12671;169444;169445;16...   \n",
      "3575                                      249857;317867   \n",
      "3576  4251;25020;25021;25022;25023;25024;25025;25026...   \n",
      "3577  461;38845;38846;38847;38848;38849;58927;92074;...   \n",
      "3578            50084;50085;105341;176545;320028;320029   \n",
      "\n",
      "                                             Best MS/MS  \\\n",
      "0                             88636;88639;169889;176478   \n",
      "1                    111189;172344;181818;188295;262431   \n",
      "2                                   12202;125134;298869   \n",
      "3     14384;37245;37359;52825;60367;76758;82996;9965...   \n",
      "4     88204;197217;270336;272692;280811;290902;30027...   \n",
      "...                                                 ...   \n",
      "3574           12668;169444;283479;300509;302458;302460   \n",
      "3575                                      249857;317867   \n",
      "3576  4251;25021;37163;44367;68750;69034;70199;75366...   \n",
      "3577                       461;38847;58927;92074;244696   \n",
      "3578                         50085;105341;176545;320028   \n",
      "\n",
      "                                 Oxidation (M) site IDs  \\\n",
      "0                                                   NaN   \n",
      "1                                               898;899   \n",
      "2                                                   NaN   \n",
      "3                       452;453;454;455;456;457;458;459   \n",
      "4                                        2106;6406;6407   \n",
      "...                                                 ...   \n",
      "3574                                               2023   \n",
      "3575                                               6979   \n",
      "3576  2344;2345;2346;2347;2348;2349;2350;2351;2352;2...   \n",
      "3577                                                NaN   \n",
      "3578                                                NaN   \n",
      "\n",
      "                           Oxidation (M) site positions  \n",
      "0                                                   NaN  \n",
      "1                                                91;197  \n",
      "2                                                   NaN  \n",
      "3                  252;959;967;1033;1662;1739;2049;2281  \n",
      "4                                         796;1337;1535  \n",
      "...                                                 ...  \n",
      "3574                                                121  \n",
      "3575                                                246  \n",
      "3576  242;500;634;876;959;990;1123;1278;1282;1328;14...  \n",
      "3577                                                NaN  \n",
      "3578                                                NaN  \n",
      "\n",
      "[3579 rows x 108 columns]\n"
     ]
    }
   ],
   "source": [
    "df=pd.read_excel(wdir+'/Bayes_2017_mouse.xlsx', sheet_name='Final List Mouse SYN-PSD prote ')\n",
    "print (df)"
   ]
  },
  {
   "cell_type": "code",
   "execution_count": 157,
   "id": "ec57b76e-64d8-4139-bc49-59cd17328162",
   "metadata": {},
   "outputs": [
    {
     "name": "stdout",
     "output_type": "stream",
     "text": [
      "['SEP15', '2310061I04RIK', '5330417C22RIK', 'ABCA2', 'ABCA9']\n"
     ]
    }
   ],
   "source": [
    "bayes_2017_genes=df['Associated Gene Name'].tolist()\n",
    "bayes_2017_genes=[x.upper() for x in bayes_2017_genes]\n",
    "print (bayes_2017_genes[:5])"
   ]
  },
  {
   "cell_type": "code",
   "execution_count": 158,
   "id": "4f47f965-d4d3-4a37-83af-450374cbc406",
   "metadata": {},
   "outputs": [
    {
     "name": "stdout",
     "output_type": "stream",
     "text": [
      "1187\n"
     ]
    }
   ],
   "source": [
    "overlap=list(set(bayes_2017_genes)&set(syngo_genes+synsig_genes))\n",
    "print (len(overlap))"
   ]
  },
  {
   "cell_type": "code",
   "execution_count": 159,
   "id": "cc350a12-317f-44d0-af06-3526bc0a5280",
   "metadata": {},
   "outputs": [
    {
     "name": "stdout",
     "output_type": "stream",
     "text": [
      "688\n"
     ]
    }
   ],
   "source": [
    "overlap=list(set(bayes_2017_genes)&set(syngo_genes))\n",
    "print (len(overlap))"
   ]
  },
  {
   "cell_type": "code",
   "execution_count": 160,
   "id": "48ff2019-4894-4440-8005-d41fdce58b21",
   "metadata": {},
   "outputs": [
    {
     "name": "stderr",
     "output_type": "stream",
     "text": [
      "/cellar/users/yumei/miniconda3/envs/synsig/lib/python3.7/site-packages/openpyxl/styles/stylesheet.py:226: UserWarning: Workbook contains no default style, apply openpyxl's default\n",
      "  warn(\"Workbook contains no default style, apply openpyxl's default\")\n"
     ]
    },
    {
     "name": "stdout",
     "output_type": "stream",
     "text": [
      "           From       Entry    Reviewed        Entry Name  \\\n",
      "0      27228985      Q7TMF3    reviewed       NDUAC_MOUSE   \n",
      "1      27228985  A0A0R4J275  unreviewed  A0A0R4J275_MOUSE   \n",
      "2     125490368      O70172    reviewed       PI42A_MOUSE   \n",
      "3     125490368      Q544E3  unreviewed      Q544E3_MOUSE   \n",
      "4      13385680      Q9CQ62    reviewed        DECR_MOUSE   \n",
      "...         ...         ...         ...               ...   \n",
      "2770  256985190      Q3TXX3    reviewed       ZFY27_MOUSE   \n",
      "2771  124487366      Q3UFB2    reviewed        BCD1_MOUSE   \n",
      "2772   42476037      Q8C7B8    reviewed       ZSWM4_MOUSE   \n",
      "2773   89886482      P58404    reviewed       STRN4_MOUSE   \n",
      "2774   27883860      Q80SU3    reviewed        ZAR1_MOUSE   \n",
      "\n",
      "                                          Protein names  \\\n",
      "0     NADH dehydrogenase [ubiquinone] 1 alpha subcom...   \n",
      "1     NADH dehydrogenase [ubiquinone] 1 alpha subcom...   \n",
      "2     Phosphatidylinositol 5-phosphate 4-kinase type...   \n",
      "3                        PIPK domain-containing protein   \n",
      "4     2,4-dienoyl-CoA reductase [(3E)-enoyl-CoA-prod...   \n",
      "...                                                 ...   \n",
      "2770  Protrudin (Zinc finger FYVE domain-containing ...   \n",
      "2771  Box C/D snoRNA protein 1 (Zinc finger HIT doma...   \n",
      "2772       Zinc finger SWIM domain-containing protein 4   \n",
      "2773                               Striatin-4 (Zinedin)   \n",
      "2774  Zygote arrest protein 1 (Oocyte-specific mater...   \n",
      "\n",
      "                   Gene Names              Organism  Length  \n",
      "0                     Ndufa12  Mus musculus (Mouse)     145  \n",
      "1                     Ndufa12  Mus musculus (Mouse)     149  \n",
      "2     Pip4k2a Pi5p4ka Pip5k2a  Mus musculus (Mouse)     405  \n",
      "3             Pip4k2a Pip5k2a  Mus musculus (Mouse)     405  \n",
      "4                       Decr1  Mus musculus (Mouse)     335  \n",
      "...                       ...                   ...     ...  \n",
      "2770                  Zfyve27  Mus musculus (Mouse)     415  \n",
      "2771              Znhit6 Bcd1  Mus musculus (Mouse)     460  \n",
      "2772                   Zswim4  Mus musculus (Mouse)    1101  \n",
      "2773                Strn4 Zin  Mus musculus (Mouse)     760  \n",
      "2774                     Zar1  Mus musculus (Mouse)     361  \n",
      "\n",
      "[2775 rows x 8 columns]\n"
     ]
    }
   ],
   "source": [
    "#used Uniprot ID mapping to map GI number to gene symbol:\n",
    "df=pd.read_excel(wdir+'/Biesemann_2014_mapped.xlsx')\n",
    "print (df)"
   ]
  },
  {
   "cell_type": "code",
   "execution_count": 161,
   "id": "facdb32c-2a22-4cfa-94bd-2d5b0287e41e",
   "metadata": {},
   "outputs": [
    {
     "name": "stdout",
     "output_type": "stream",
     "text": [
      "[['Ndufa12'], ['Ndufa12'], ['Pip4k2a', 'Pi5p4ka', 'Pip5k2a'], ['Pip4k2a', 'Pip5k2a'], ['Decr1']]\n",
      "['NDUFA12', 'NDUFA12', 'PIP4K2A', 'PI5P4KA', 'PIP5K2A']\n"
     ]
    }
   ],
   "source": [
    "#need to double check with mapping to human orthologues later when ensembl server is available. \n",
    "biesemann_genes=df['Gene Names'].tolist()\n",
    "\n",
    "#be careful, some entries have multiple gene names, need to separate\n",
    "\n",
    "biesemann_genes=[str(x) for x in biesemann_genes]\n",
    "\n",
    "entries=[]\n",
    "for item in biesemann_genes:\n",
    "    if ' ' in item:\n",
    "        genes=item.split(' ')\n",
    "        entries.append(genes)\n",
    "        #print (genes)\n",
    "    else:\n",
    "        gene=[item]\n",
    "        entries.append(gene)\n",
    "\n",
    "print (entries[:5])\n",
    "\n",
    "biesemann_genes = [item for sublist in entries for item in sublist]\n",
    "\n",
    "biesemann_genes=[x.upper() for x in biesemann_genes]\n",
    "print (biesemann_genes[:5])"
   ]
  },
  {
   "cell_type": "code",
   "execution_count": 162,
   "id": "b1744a44-1a96-41b8-8079-0ff6bf4689e9",
   "metadata": {},
   "outputs": [
    {
     "name": "stdout",
     "output_type": "stream",
     "text": [
      "695\n"
     ]
    }
   ],
   "source": [
    "overlap=list(set(biesemann_genes)&set(syngo_genes+synsig_genes))\n",
    "print (len(overlap))"
   ]
  },
  {
   "cell_type": "code",
   "execution_count": 163,
   "id": "c4a5cc83-481a-4f79-b0bf-07c67f0e76e4",
   "metadata": {},
   "outputs": [
    {
     "name": "stdout",
     "output_type": "stream",
     "text": [
      "373\n"
     ]
    }
   ],
   "source": [
    "overlap=list(set(biesemann_genes)&set(syngo_genes))\n",
    "print (len(overlap))"
   ]
  },
  {
   "cell_type": "code",
   "execution_count": 164,
   "id": "6f0c0ef1-d7d3-43ac-88ce-3fe57c363b76",
   "metadata": {},
   "outputs": [
    {
     "name": "stdout",
     "output_type": "stream",
     "text": [
      "          From   Entry    Reviewed  Entry Name  \\\n",
      "0    213972596  G3V9H6  unreviewed  G3V9H6_RAT   \n",
      "1     16306470  Q9JIR4    reviewed   RIMS1_RAT   \n",
      "2     11559947  Q62915    reviewed    CSKP_RAT   \n",
      "3     25140983  Q8K3M6    reviewed    ERC2_RAT   \n",
      "4    281306779  Q91Z80    reviewed   LIPA4_RAT   \n",
      "..         ...     ...         ...         ...   \n",
      "437  157821895  D4A5X7  unreviewed  D4A5X7_RAT   \n",
      "438  157821195  D3ZKT0    reviewed   TAM41_RAT   \n",
      "439  157821401  Q32Q54  unreviewed  Q32Q54_RAT   \n",
      "440   77732522  Q9WVJ4    reviewed   SYJ2B_RAT   \n",
      "441  157824057  D4A4W6  unreviewed  D4A4W6_RAT   \n",
      "\n",
      "                                         Protein names  \\\n",
      "0                              PPFIA-binding protein 2   \n",
      "1    Regulating synaptic membrane exocytosis protei...   \n",
      "2    Peripheral plasma membrane protein CASK (EC 2....   \n",
      "3    ERC protein 2 (CAZ-associated structural prote...   \n",
      "4    Liprin-alpha-4 (Protein tyrosine phosphatase r...   \n",
      "..                                                 ...   \n",
      "437  Ganglioside-induced differentiation-associated...   \n",
      "438  Phosphatidate cytidylyltransferase, mitochondr...   \n",
      "439  RCG37273, isoform CRA_a (Similar to Basic FGF-...   \n",
      "440  Synaptojanin-2-binding protein (Mitochondrial ...   \n",
      "441      SRA stem-loop-interacting RNA-binding protein   \n",
      "\n",
      "                         Gene Names                 Organism  Length  \n",
      "0                           Ppfibp2  Rattus norvegicus (Rat)     799  \n",
      "1                        Rims1 Rim1  Rattus norvegicus (Rat)    1615  \n",
      "2                              Cask  Rattus norvegicus (Rat)     909  \n",
      "3                   Erc2 Cast1 Cmbp  Rattus norvegicus (Rat)     957  \n",
      "4                            Ppfia4  Rattus norvegicus (Rat)    1043  \n",
      "..                              ...                      ...     ...  \n",
      "437                           Gdap1  Rattus norvegicus (Rat)     422  \n",
      "438                          Tamm41  Rattus norvegicus (Rat)     337  \n",
      "439  Uqcc1 LOC683512 Uqcc rCG_37273  Rattus norvegicus (Rat)     299  \n",
      "440                   Synj2bp Omp25  Rattus norvegicus (Rat)     145  \n",
      "441                           Slirp  Rattus norvegicus (Rat)     156  \n",
      "\n",
      "[442 rows x 8 columns]\n"
     ]
    },
    {
     "name": "stderr",
     "output_type": "stream",
     "text": [
      "/cellar/users/yumei/miniconda3/envs/synsig/lib/python3.7/site-packages/openpyxl/styles/stylesheet.py:226: UserWarning: Workbook contains no default style, apply openpyxl's default\n",
      "  warn(\"Workbook contains no default style, apply openpyxl's default\")\n"
     ]
    }
   ],
   "source": [
    "df=pd.read_excel(wdir+'/Boyken_2013_mapped.xlsx')\n",
    "print (df)"
   ]
  },
  {
   "cell_type": "code",
   "execution_count": 165,
   "id": "142f48c3-9ec1-406f-bfe5-9449ad2e9010",
   "metadata": {},
   "outputs": [
    {
     "name": "stdout",
     "output_type": "stream",
     "text": [
      "[['Ppfibp2'], ['Rims1', 'Rim1'], ['Cask'], ['Erc2', 'Cast1', 'Cmbp'], ['Ppfia4']]\n",
      "['PPFIBP2', 'RIMS1', 'RIM1', 'CASK', 'ERC2']\n"
     ]
    }
   ],
   "source": [
    "#need to double check with mapping to human orthologues later when ensembl server is available. \n",
    "boyken_genes=df['Gene Names'].tolist()\n",
    "\n",
    "#be careful, some entries have multiple gene names, need to separate\n",
    "\n",
    "boyken_genes=[str(x) for x in boyken_genes]\n",
    "\n",
    "entries=[]\n",
    "for item in boyken_genes:\n",
    "    if ' ' in item:\n",
    "        genes=item.split(' ')\n",
    "        entries.append(genes)\n",
    "        #print (genes)\n",
    "    else:\n",
    "        gene=[item]\n",
    "        entries.append(gene)\n",
    "\n",
    "print (entries[:5])\n",
    "\n",
    "boyken_genes = [item for sublist in entries for item in sublist]\n",
    "\n",
    "boyken_genes=[x.upper() for x in boyken_genes]\n",
    "print (boyken_genes[:5])"
   ]
  },
  {
   "cell_type": "code",
   "execution_count": 166,
   "id": "68be41c9-d786-4827-916f-3f7fb5a14a45",
   "metadata": {},
   "outputs": [
    {
     "name": "stdout",
     "output_type": "stream",
     "text": [
      "172\n"
     ]
    }
   ],
   "source": [
    "overlap=list(set(boyken_genes)&set(syngo_genes+synsig_genes))\n",
    "print (len(overlap))"
   ]
  },
  {
   "cell_type": "code",
   "execution_count": 167,
   "id": "d3158741-2991-408c-bb9e-1740ac5f82a7",
   "metadata": {},
   "outputs": [
    {
     "name": "stdout",
     "output_type": "stream",
     "text": [
      "110\n"
     ]
    }
   ],
   "source": [
    "overlap=list(set(boyken_genes)&set(syngo_genes))\n",
    "print (len(overlap))"
   ]
  },
  {
   "cell_type": "code",
   "execution_count": 168,
   "id": "6ca0d0ee-a8e4-419f-82cc-ea955aecbfc7",
   "metadata": {},
   "outputs": [
    {
     "name": "stdout",
     "output_type": "stream",
     "text": [
      "     Accession # Gene Name Unnamed: 2                                Name  \\\n",
      "0         Q13813     SPTA2        NaN             Spectrin ? chain, brain   \n",
      "1         Q01082     SPTB2        NaN           Spectrin ? chain, brain 1   \n",
      "2         P07197       NFM        NaN    Neurofilament medium polypeptide   \n",
      "3         Q01484      ANK2        NaN                           Ankyrin-2   \n",
      "4         Q14204     DYHC1        NaN  Cytoplasmic dynein 1 heavy chain 1   \n",
      "...          ...       ...        ...                                 ...   \n",
      "2067      P07947       YES        NaN                                 NaN   \n",
      "2068      P35498     SCN1A        NaN                                 NaN   \n",
      "2069      Q96DG6      CMBL        NaN                                 NaN   \n",
      "2070      Q6PHR2      ULK3        NaN                                 NaN   \n",
      "2071      Q8WV93     LACE1        NaN                                 NaN   \n",
      "\n",
      "     Unnamed: 4  Unnamed: 5  Unnamed: 6  \n",
      "0           NaN         NaN         NaN  \n",
      "1           NaN         NaN         NaN  \n",
      "2           NaN         NaN         NaN  \n",
      "3           NaN         NaN         NaN  \n",
      "4           NaN         NaN         NaN  \n",
      "...         ...         ...         ...  \n",
      "2067        NaN         NaN         NaN  \n",
      "2068        NaN         NaN         NaN  \n",
      "2069        NaN         NaN         NaN  \n",
      "2070        NaN         NaN         NaN  \n",
      "2071        NaN         NaN         NaN  \n",
      "\n",
      "[2072 rows x 7 columns]\n"
     ]
    }
   ],
   "source": [
    "#strange, the paper says that there should be 2077 genes, but they are in pdf format, need to double check\n",
    "#https://www.sciencedirect.com/science/article/pii/S0197018615000650?via%3Dihub\n",
    "#human proteins at the synape in AD\n",
    "df=pd.read_excel(wdir+'/Chang_2015_table1.xls')\n",
    "print (df)"
   ]
  },
  {
   "cell_type": "code",
   "execution_count": 169,
   "id": "8ebca036-2a8e-4e10-94f7-1b4c69a57573",
   "metadata": {},
   "outputs": [
    {
     "name": "stdout",
     "output_type": "stream",
     "text": [
      "2072\n"
     ]
    }
   ],
   "source": [
    "chang_genes=df['Gene Name'].tolist()\n",
    "print (len(chang_genes))"
   ]
  },
  {
   "cell_type": "code",
   "execution_count": 170,
   "id": "53f60e3b-d53b-4438-8ea9-177516f123c2",
   "metadata": {},
   "outputs": [
    {
     "name": "stdout",
     "output_type": "stream",
     "text": [
      "346\n"
     ]
    }
   ],
   "source": [
    "overlap=list(set(chang_genes)&set(synsig_genes+syngo_genes))\n",
    "print (len(overlap))"
   ]
  },
  {
   "cell_type": "code",
   "execution_count": 171,
   "id": "aaac3c33-0d94-449f-9ae7-3680c7201e81",
   "metadata": {},
   "outputs": [
    {
     "name": "stdout",
     "output_type": "stream",
     "text": [
      "161\n"
     ]
    }
   ],
   "source": [
    "overlap=list(set(chang_genes)&set(syngo_genes))\n",
    "print (len(overlap))"
   ]
  },
  {
   "cell_type": "code",
   "execution_count": 172,
   "id": "b08e1e30-b521-4068-80ba-24b08e5bda99",
   "metadata": {},
   "outputs": [
    {
     "name": "stdout",
     "output_type": "stream",
     "text": [
      "     MGI Symbol       MGI ID  \\\n",
      "0          Aak1  MGI:1098687   \n",
      "1         Abcb8  MGI:1351667   \n",
      "2         Abcc8  MGI:1352629   \n",
      "3         Abcd2  MGI:1349467   \n",
      "4         Abcd3  MGI:1349216   \n",
      "...         ...          ...   \n",
      "1599      Vamp3  MGI:1321389   \n",
      "1600       Vapb  MGI:1928744   \n",
      "1601      Vsnl1  MGI:1349453   \n",
      "1602      Vti1a  MGI:1855699   \n",
      "1603      Vti1b  MGI:1855688   \n",
      "\n",
      "                                                   Name  Unnamed: 3  \\\n",
      "0                               AP2 associated kinase 1         NaN   \n",
      "1     ATP-binding cassette, sub-family B (MDR/TAP), ...         NaN   \n",
      "2     ATP-binding cassette, sub-family C (CFTR/MRP),...         NaN   \n",
      "3     ATP-binding cassette, sub-family D (ALD), memb...         NaN   \n",
      "4     ATP-binding cassette, sub-family D (ALD), memb...         NaN   \n",
      "...                                                 ...         ...   \n",
      "1599              vesicle-associated membrane protein 3         NaN   \n",
      "1600  vesicle-associated membrane protein, associate...         NaN   \n",
      "1601                                     visinin-like 1         NaN   \n",
      "1602  vesicle transport through interaction with t-S...         NaN   \n",
      "1603  vesicle transport through interaction with t-S...         NaN   \n",
      "\n",
      "      Unnamed: 4  Unnamed: 5  Unnamed: 6  \\\n",
      "0            NaN         NaN         NaN   \n",
      "1            NaN         NaN         NaN   \n",
      "2            NaN         NaN         NaN   \n",
      "3            NaN         NaN         NaN   \n",
      "4            NaN         NaN         NaN   \n",
      "...          ...         ...         ...   \n",
      "1599         NaN         NaN         NaN   \n",
      "1600         NaN         NaN         NaN   \n",
      "1601         NaN         NaN         NaN   \n",
      "1602         NaN         NaN         NaN   \n",
      "1603         NaN         NaN         NaN   \n",
      "\n",
      "                                             Unnamed: 7  \n",
      "0     Blue: presynaptic proteins present in PSD prep...  \n",
      "1                                                   NaN  \n",
      "2                                                   NaN  \n",
      "3                                                   NaN  \n",
      "4                                                   NaN  \n",
      "...                                                 ...  \n",
      "1599                                                NaN  \n",
      "1600                                                NaN  \n",
      "1601                                                NaN  \n",
      "1602                                                NaN  \n",
      "1603                                                NaN  \n",
      "\n",
      "[1604 rows x 8 columns]\n"
     ]
    }
   ],
   "source": [
    "df = pd.read_csv(wdir + '/Coba_PSD_tableS2.csv')\n",
    "print (df)"
   ]
  },
  {
   "cell_type": "code",
   "execution_count": 173,
   "id": "01276759-2cf1-446a-8987-5c0e34c8ed9b",
   "metadata": {},
   "outputs": [
    {
     "name": "stdout",
     "output_type": "stream",
     "text": [
      "1604\n"
     ]
    }
   ],
   "source": [
    "coba_2016_genes=df['MGI Symbol'].tolist()\n",
    "print (len(coba_2016_genes))"
   ]
  },
  {
   "cell_type": "code",
   "execution_count": 174,
   "id": "43bf7abe-465b-4da6-8c7a-3bf92a54e781",
   "metadata": {},
   "outputs": [
    {
     "name": "stdout",
     "output_type": "stream",
     "text": [
      "['AAK1', 'ABCB8', 'ABCC8', 'ABCD2', 'ABCD3']\n"
     ]
    }
   ],
   "source": [
    "coba_2016_genes=[x.upper() for x in coba_2016_genes]\n",
    "print (coba_2016_genes[:5])"
   ]
  },
  {
   "cell_type": "code",
   "execution_count": 175,
   "id": "af4e590d-f4c8-4df6-ac82-eace88494ca7",
   "metadata": {},
   "outputs": [
    {
     "name": "stdout",
     "output_type": "stream",
     "text": [
      "806\n"
     ]
    }
   ],
   "source": [
    "overlap=list(set(coba_2016_genes)&set(syngo_genes+synsig_genes))\n",
    "print (len(overlap))"
   ]
  },
  {
   "cell_type": "code",
   "execution_count": 176,
   "id": "3c2db91c-801c-48ec-b716-8e07e11bd4f1",
   "metadata": {},
   "outputs": [
    {
     "name": "stdout",
     "output_type": "stream",
     "text": [
      "506\n"
     ]
    }
   ],
   "source": [
    "overlap=list(set(coba_2016_genes)&set(syngo_genes))\n",
    "print (len(overlap))"
   ]
  },
  {
   "cell_type": "code",
   "execution_count": 177,
   "id": "8ca5fde8-2f12-4214-99bd-c44f050dfd04",
   "metadata": {},
   "outputs": [
    {
     "name": "stdout",
     "output_type": "stream",
     "text": [
      "           Gene    Symbol       Species  \\\n",
      "0     G00000026    GRIN2A  Homo sapiens   \n",
      "1     G00000027    GRIN2B  Homo sapiens   \n",
      "2     G00000028       ARC  Homo sapiens   \n",
      "3     G00000029      DLG4  Homo sapiens   \n",
      "4     G00000030      NOS1  Homo sapiens   \n",
      "...         ...       ...           ...   \n",
      "1075  G00002544    Hel308  Homo sapiens   \n",
      "1076  G00002545    FBXO41  Homo sapiens   \n",
      "1077  G00002546  SLC25A22  Homo sapiens   \n",
      "1078  G00002547     KALRN  Homo sapiens   \n",
      "1079  G00002548       DSP  Homo sapiens   \n",
      "\n",
      "                                            Description  \n",
      "0     glutamate receptor, ionotropic, N-methyl D-asp...  \n",
      "1     glutamate receptor, ionotropic, N-methyl D-asp...  \n",
      "2     activity-regulated cytoskeleton-associated pro...  \n",
      "3                   discs, large homolog 4 (Drosophila)  \n",
      "4                    nitric oxide synthase 1 (neuronal)  \n",
      "...                                                 ...  \n",
      "1075                                                NaN  \n",
      "1076                                   F-box protein 41  \n",
      "1077  solute carrier family 25 (mitochondrial carrie...  \n",
      "1078                             kalirin, RhoGEF kinase  \n",
      "1079                                        desmoplakin  \n",
      "\n",
      "[1080 rows x 4 columns]\n"
     ]
    }
   ],
   "source": [
    "#https://onlinelibrary.wiley.com/doi/10.1111/j.1471-4159.2005.03507.x\n",
    "#Molecular characterization and comparison of the components and multiprotein complexes in the postsynaptic proteome.\n",
    "\n",
    "#Collins MO, Husi H, Yu L, Brandon JM, Anderson CN, Blackstock WP, Choudhary JS and Grant SG. [16635246]\n",
    "#downloaded from https://genes2cognition.org/proteomics/\n",
    "#downloaded 1/10/23\n",
    "\n",
    "#make sure to double check the difference between PSP and PSD\n",
    "df = pd.read_excel(wdir+'/Collins_2006_mouse_human_orthologs_PSD.xls')\n",
    "print (df)"
   ]
  },
  {
   "cell_type": "code",
   "execution_count": 178,
   "id": "d3a804a0-d39b-4df6-8639-33d93a3cdcfb",
   "metadata": {},
   "outputs": [
    {
     "name": "stdout",
     "output_type": "stream",
     "text": [
      "['GRIN2A', 'GRIN2B', 'ARC', 'DLG4', 'NOS1']\n"
     ]
    }
   ],
   "source": [
    "collins_psd_genes=df['Symbol'].tolist()\n",
    "print (collins_psd_genes[:5])"
   ]
  },
  {
   "cell_type": "code",
   "execution_count": 179,
   "id": "0b6a0bf5-4087-4d04-a41f-e7eea8916c56",
   "metadata": {},
   "outputs": [
    {
     "name": "stdout",
     "output_type": "stream",
     "text": [
      "           Gene    Symbol       Species  \\\n",
      "0     G00000026    GRIN2A  Homo sapiens   \n",
      "1     G00000027    GRIN2B  Homo sapiens   \n",
      "2     G00000028       ARC  Homo sapiens   \n",
      "3     G00000029      DLG4  Homo sapiens   \n",
      "4     G00000030      NOS1  Homo sapiens   \n",
      "...         ...       ...           ...   \n",
      "1116  G00002544    Hel308  Homo sapiens   \n",
      "1117  G00002545    FBXO41  Homo sapiens   \n",
      "1118  G00002546  SLC25A22  Homo sapiens   \n",
      "1119  G00002547     KALRN  Homo sapiens   \n",
      "1120  G00002548       DSP  Homo sapiens   \n",
      "\n",
      "                                            Description  \n",
      "0     glutamate receptor, ionotropic, N-methyl D-asp...  \n",
      "1     glutamate receptor, ionotropic, N-methyl D-asp...  \n",
      "2     activity-regulated cytoskeleton-associated pro...  \n",
      "3                   discs, large homolog 4 (Drosophila)  \n",
      "4                    nitric oxide synthase 1 (neuronal)  \n",
      "...                                                 ...  \n",
      "1116                                                NaN  \n",
      "1117                                   F-box protein 41  \n",
      "1118  solute carrier family 25 (mitochondrial carrie...  \n",
      "1119                             kalirin, RhoGEF kinase  \n",
      "1120                                        desmoplakin  \n",
      "\n",
      "[1121 rows x 4 columns]\n",
      "1121\n",
      "['GRIN2A', 'GRIN2B', 'ARC', 'DLG4', 'NOS1']\n"
     ]
    }
   ],
   "source": [
    "df = pd.read_excel(wdir+'/Collins_2006_mouse_human_orthologs_PSP.xls')\n",
    "print (df)\n",
    "collins_psp_genes=df['Symbol'].tolist()\n",
    "print (len(collins_psp_genes))\n",
    "print (collins_psp_genes[:5])"
   ]
  },
  {
   "cell_type": "code",
   "execution_count": 180,
   "id": "278538fa-a3ec-4780-ae46-7565d882e451",
   "metadata": {},
   "outputs": [
    {
     "name": "stdout",
     "output_type": "stream",
     "text": [
      "1074\n"
     ]
    }
   ],
   "source": [
    "overlap=list(set(collins_psp_genes)&set(collins_psd_genes))\n",
    "print (len(overlap))"
   ]
  },
  {
   "cell_type": "code",
   "execution_count": 181,
   "id": "5a10c8cb-92fb-40ae-bf01-6f186d60a0b2",
   "metadata": {},
   "outputs": [
    {
     "name": "stdout",
     "output_type": "stream",
     "text": [
      "1080\n",
      "585\n"
     ]
    }
   ],
   "source": [
    "print (len(collins_psd_genes))\n",
    "overlap=list(set(collins_psd_genes)&set(syngo_genes+synsig_genes))\n",
    "print (len(overlap))"
   ]
  },
  {
   "cell_type": "code",
   "execution_count": 182,
   "id": "bcaeb87d-05d9-4379-b855-11c0dbe24b5e",
   "metadata": {},
   "outputs": [
    {
     "name": "stdout",
     "output_type": "stream",
     "text": [
      "378\n"
     ]
    }
   ],
   "source": [
    "overlap=list(set(collins_psd_genes)&set(syngo_genes))\n",
    "print (len(overlap))"
   ]
  },
  {
   "cell_type": "code",
   "execution_count": 183,
   "id": "dbfd093e-1fb4-445c-8040-4304d7ff6769",
   "metadata": {},
   "outputs": [
    {
     "name": "stdout",
     "output_type": "stream",
     "text": [
      "603\n",
      "382\n"
     ]
    }
   ],
   "source": [
    "overlap=list(set(collins_psp_genes)&set(syngo_genes+synsig_genes))\n",
    "print (len(overlap))\n",
    "\n",
    "overlap=list(set(collins_psp_genes)&set(syngo_genes))\n",
    "print (len(overlap))"
   ]
  },
  {
   "cell_type": "code",
   "execution_count": 184,
   "id": "728a5834-d418-4707-b7af-2ad6d3b8d777",
   "metadata": {},
   "outputs": [
    {
     "name": "stdout",
     "output_type": "stream",
     "text": [
      "1233 974 2030 1080\n",
      "2207\n"
     ]
    }
   ],
   "source": [
    "print (len(synsig_genes), len(syngo_genes), len(list(set(syngo_genes+synsig_genes))), len(collins_psd_genes))\n",
    "print (1233+974)"
   ]
  },
  {
   "cell_type": "code",
   "execution_count": 185,
   "id": "21bfe3e0-a4d7-4191-829c-7c57994bcc04",
   "metadata": {},
   "outputs": [
    {
     "name": "stdout",
     "output_type": "stream",
     "text": [
      "2.8942600690965e-311\n"
     ]
    }
   ],
   "source": [
    "import scipy.stats as ss\n",
    "hpd = ss.hypergeom(20000, 2207, 1080)\n",
    "p = hpd.pmf(603)\n",
    "print (p)\n",
    "\n",
    "#note: shoud I look for enrichment fold change or just the number of proteins increased?"
   ]
  },
  {
   "cell_type": "code",
   "execution_count": 186,
   "id": "6f9613ad-1cf2-4aea-a56f-1527133e46d7",
   "metadata": {},
   "outputs": [
    {
     "name": "stdout",
     "output_type": "stream",
     "text": [
      "                                            Protein name  \\\n",
      "0      Aak1 Isoform 2 of AP2-associated protein kinase 1   \n",
      "1                                                    NaN   \n",
      "2                                                    NaN   \n",
      "3                                                    NaN   \n",
      "4                                                    NaN   \n",
      "...                                                  ...   \n",
      "21209                                                NaN   \n",
      "21210                                                NaN   \n",
      "21211                                                NaN   \n",
      "21212                                                NaN   \n",
      "21213                                                NaN   \n",
      "\n",
      "               Peptide sequence          MH+  Charge  Peptide probability a  \\\n",
      "0                           NaN          NaN     NaN                    NaN   \n",
      "1       K.AAEDSNLISGFGVAEGSEK.V  1880.887207     2.0           4.203304e-12   \n",
      "2                           NaN          NaN     2.0           3.743672e-12   \n",
      "3       K.ADVAVESLIPGLEPPVAQR.L  1961.070190     2.0           1.801980e-06   \n",
      "4                           NaN          NaN     2.0           1.000000e+00   \n",
      "...                         ...          ...     ...                    ...   \n",
      "21209           R.FDGDELTTDER.I  1297.554321     2.0           1.269982e-05   \n",
      "21210                       NaN          NaN     2.0           6.080980e-05   \n",
      "21211                       NaN          NaN     2.0           1.000000e+00   \n",
      "21212  R.GDQEEELDRPVSSPGEAEQK.K  2200.000000     3.0           3.135270e-11   \n",
      "21213        R.GLEAAEVNPESLAK.E  1427.737671     2.0           1.634126e-05   \n",
      "\n",
      "       DeltaCna  IPG Fraction b IPI accession number  Molecular weight    pI  \\\n",
      "0           NaN             NaN          IPI00356608          94602.31  6.16   \n",
      "1      0.679263            19.0                  NaN               NaN   NaN   \n",
      "2      0.645630            20.0                  NaN               NaN   NaN   \n",
      "3      0.554761            24.0                  NaN               NaN   NaN   \n",
      "4      0.486149            25.0                  NaN               NaN   NaN   \n",
      "...         ...             ...                  ...               ...   ...   \n",
      "21209  0.525338             6.0                  NaN               NaN   NaN   \n",
      "21210  0.621683             7.0                  NaN               NaN   NaN   \n",
      "21211  0.530962             8.0                  NaN               NaN   NaN   \n",
      "21212  0.491036            20.0                  NaN               NaN   NaN   \n",
      "21213  0.588500            30.0                  NaN               NaN   NaN   \n",
      "\n",
      "       Unique identified peptides  \n",
      "0                            12.0  \n",
      "1                             NaN  \n",
      "2                             NaN  \n",
      "3                             NaN  \n",
      "4                             NaN  \n",
      "...                           ...  \n",
      "21209                         NaN  \n",
      "21210                         NaN  \n",
      "21211                         NaN  \n",
      "21212                         NaN  \n",
      "21213                         NaN  \n",
      "\n",
      "[21214 rows x 11 columns]\n"
     ]
    }
   ],
   "source": [
    "df= pd.read_excel(wdir + '/Filiou_2010.xls')\n",
    "print (df)"
   ]
  },
  {
   "cell_type": "code",
   "execution_count": 187,
   "id": "f2ee644b-c801-4c8c-a2a5-eb2943f95c68",
   "metadata": {},
   "outputs": [
    {
     "name": "stdout",
     "output_type": "stream",
     "text": [
      "['Aak1 Isoform 2 of AP2-associated protein kinase 1', nan, nan, nan, nan]\n",
      "21214\n"
     ]
    }
   ],
   "source": [
    "filiou=df['Protein name'].tolist()\n",
    "print (filiou[:5])\n",
    "print (len(filiou))"
   ]
  },
  {
   "cell_type": "code",
   "execution_count": 188,
   "id": "f3cbd4eb-b61d-4640-b71e-dcd4d2f614a7",
   "metadata": {},
   "outputs": [],
   "source": [
    "filiou = [x for x in filiou if str(x) != 'nan']"
   ]
  },
  {
   "cell_type": "code",
   "execution_count": 189,
   "id": "95071860-97fc-4a13-88f9-c79955416694",
   "metadata": {},
   "outputs": [
    {
     "name": "stdout",
     "output_type": "stream",
     "text": [
      "2980\n"
     ]
    }
   ],
   "source": [
    "print (len(filiou))"
   ]
  },
  {
   "cell_type": "code",
   "execution_count": 190,
   "id": "c2a24706-23e7-4066-bc01-9ab900d8e799",
   "metadata": {},
   "outputs": [
    {
     "name": "stdout",
     "output_type": "stream",
     "text": [
      "['Aak1', 'Aars', 'Aars2', 'Aarsd1', 'Aatk']\n"
     ]
    }
   ],
   "source": [
    "gene_names=[]\n",
    "for item in filiou:\n",
    "    entry=item.split(' ')\n",
    "    gene=entry[0]\n",
    "    gene_names.append(gene)\n",
    "\n",
    "print (gene_names[:5])"
   ]
  },
  {
   "cell_type": "code",
   "execution_count": 191,
   "id": "17e42e5a-c816-4465-894a-868b71175c6b",
   "metadata": {},
   "outputs": [
    {
     "name": "stdout",
     "output_type": "stream",
     "text": [
      "['AAK1', 'AARS', 'AARS2', 'AARSD1', 'AATK']\n"
     ]
    }
   ],
   "source": [
    "filiou_genes=[x.upper() for x in gene_names]\n",
    "print (filiou_genes[:5])"
   ]
  },
  {
   "cell_type": "code",
   "execution_count": 192,
   "id": "1f79576a-66d6-4af9-829d-431921a86169",
   "metadata": {},
   "outputs": [
    {
     "name": "stdout",
     "output_type": "stream",
     "text": [
      "883\n",
      "467\n"
     ]
    }
   ],
   "source": [
    "overlap=list(set(filiou_genes)&set(syngo_genes+synsig_genes))\n",
    "print (len(overlap))\n",
    "\n",
    "overlap=list(set(filiou_genes)&set(syngo_genes))\n",
    "print (len(overlap))\n",
    "\n"
   ]
  },
  {
   "cell_type": "code",
   "execution_count": 193,
   "id": "d2ab98ff-fd3f-420c-89c1-6ba113c6feee",
   "metadata": {},
   "outputs": [
    {
     "name": "stdout",
     "output_type": "stream",
     "text": [
      "        Gene ID Gene Symbol  adult1/young1  adult2/young2  young2/young1  \\\n",
      "0         11303       Abca1          0.819          0.918          1.031   \n",
      "1         11306       Abcb7          1.193          1.144          1.013   \n",
      "2         11308        Abi1          1.111          1.078          1.032   \n",
      "3         11350        Abl1          0.849          0.813          1.005   \n",
      "4         11352        Abl2          0.938          0.873          1.080   \n",
      "...         ...         ...            ...            ...            ...   \n",
      "3422  100043160     Gm10012          1.042          1.066          1.006   \n",
      "3423  100043498      Gm4478          0.711          0.947          0.811   \n",
      "3424  100101942     Trdv2-1          1.100          1.061          0.989   \n",
      "3425  100503659         Dos          1.211          1.209          1.018   \n",
      "3426  100504277  Rpl31-ps13          0.777          0.769          1.006   \n",
      "\n",
      "      adult2/adult1  mean adult/young  variability %  \n",
      "0             1.159          0.867088       0.080822  \n",
      "1             0.976          1.168243       0.029663  \n",
      "2             0.983          1.094376       0.021324  \n",
      "3             0.966          0.830805       0.030645  \n",
      "4             0.994          0.904917       0.050813  \n",
      "...             ...               ...            ...  \n",
      "3422          0.973          1.053932       0.016103  \n",
      "3423          1.085          0.820559       0.204775  \n",
      "3424          0.958          1.080324       0.025530  \n",
      "3425          0.972          1.210000       0.001169  \n",
      "3426          1.039          0.772990       0.007318  \n",
      "\n",
      "[3427 rows x 8 columns]\n"
     ]
    }
   ],
   "source": [
    "# Moczulska et al, 2014\n",
    "#https://pubs.acs.org/doi/10.1021/pr500456t\n",
    "\n",
    "df=pd.read_excel(wdir+'/Moczulska_table1.xlsx')\n",
    "print (df)\n",
    "\n"
   ]
  },
  {
   "cell_type": "code",
   "execution_count": 194,
   "id": "5c27658d-29d9-43c4-8edd-a4a1cf1ff084",
   "metadata": {},
   "outputs": [
    {
     "name": "stdout",
     "output_type": "stream",
     "text": [
      "1065\n",
      "577\n"
     ]
    }
   ],
   "source": [
    "genes=df['Gene Symbol'].tolist()\n",
    "\n",
    "moc_genes=[x.upper() for x in genes]\n",
    "\n",
    "overlap=list(set(moc_genes)&set(syngo_genes+synsig_genes))\n",
    "print (len(overlap))\n",
    "\n",
    "overlap=list(set(moc_genes)&set(syngo_genes))\n",
    "print (len(overlap))"
   ]
  },
  {
   "cell_type": "code",
   "execution_count": 229,
   "id": "15e126e8-3ef9-48ce-8783-0d031ddd37eb",
   "metadata": {},
   "outputs": [
    {
     "name": "stdout",
     "output_type": "stream",
     "text": [
      "1                     Genes         HC_H         HC_M        HC_P2  \\\n",
      "2     0610009B22RIK;TRAPPC2   339.666667   491.244444   202.205556   \n",
      "3             0610011F06RIK   212.738462   233.061538    92.176923   \n",
      "4             0610037L13RIK   572.359091            0            0   \n",
      "5         1700009N14RIK;RAN  4583.361111  2547.138889  2471.861111   \n",
      "6             1700037H04RIK   472.744444   392.688889   396.288889   \n",
      "...                     ...          ...          ...          ...   \n",
      "4221                   ZW10            0    10.855918            0   \n",
      "4222                  ZWINT   113.570588    83.317647          141   \n",
      "4223                 ZYG11B    39.702632    34.652632            0   \n",
      "4224                    ZYX        27.32            0            0   \n",
      "4225                  ZZEF1            0    19.666667            0   \n",
      "\n",
      "1          HC_SYN       HC_SYM       HC_PSD        CT_H         CT_M  \\\n",
      "2      288.711111   295.755556   239.088889  215.955556   153.255556   \n",
      "3      144.023077         78.1            0           0            0   \n",
      "4               0            0            0           0   423.354545   \n",
      "5     1941.083333  1777.861111  1478.416667      6786.5  2811.916667   \n",
      "6      471.166667   424.555556            0  565.088889   426.322222   \n",
      "...           ...          ...          ...         ...          ...   \n",
      "4221            0            0            0           0            0   \n",
      "4222            0    93.447059            0   94.229412            0   \n",
      "4223            0    16.749474            0           0            0   \n",
      "4224            0            0            0           0            0   \n",
      "4225            0            0            0           0            0   \n",
      "\n",
      "1           CT_P2       CT_SYN       CT_SYM      CT_PSD         CB_H  \\\n",
      "2               0   247.711111            0           0   268.855556   \n",
      "3       36.871538   139.423077            0           0            0   \n",
      "4      412.427273            0            0           0   527.027273   \n",
      "5     3887.333333  3398.416667  3293.666667           0  6490.583333   \n",
      "6      465.622222            0            0           0   681.877778   \n",
      "...           ...          ...          ...         ...          ...   \n",
      "4221            0            0            0           0            0   \n",
      "4222            0            0            0  292.111765   134.435294   \n",
      "4223            0            0    13.392368           0    20.359211   \n",
      "4224            0            0            0           0    24.599167   \n",
      "4225            0            0            0           0            0   \n",
      "\n",
      "1            CB_M        CB_P2      CB_SYN      CB_SYM      CB_PSD  \n",
      "2               0   219.822222  277.244444  336.233333  602.266667  \n",
      "3       87.061538            0  125.523077  100.361538           0  \n",
      "4               0            0           0       255.4           0  \n",
      "5     2812.083333  1029.666667     2163.25        1969        4276  \n",
      "6      297.077778   211.588889  381.711111  307.388889           0  \n",
      "...           ...          ...         ...         ...         ...  \n",
      "4221            0            0           0           0   39.293878  \n",
      "4222    94.817647            0           0           0  442.952941  \n",
      "4223            0            0   23.813684   34.994737           0  \n",
      "4224            0            0           0           0           0  \n",
      "4225            0            0           0           0           0  \n",
      "\n",
      "[4224 rows x 19 columns]\n"
     ]
    }
   ],
   "source": [
    "#Pandya et al, 2017\n",
    "#https://pubmed.ncbi.nlm.nih.gov/28935861/\n",
    "\n",
    "df=pd.read_excel(wdir +'/pandya_2017.xlsx')\n",
    "df.columns=df.iloc[1]\n",
    "df=df.drop(df.index[[0,1]])\n",
    "#df=df.drop(df.index[1])\n",
    "print (df)"
   ]
  },
  {
   "cell_type": "code",
   "execution_count": 232,
   "id": "d51f5a70-dbf3-46ba-84b4-5d58be2bc5a4",
   "metadata": {},
   "outputs": [
    {
     "name": "stdout",
     "output_type": "stream",
     "text": [
      "2073\n"
     ]
    }
   ],
   "source": [
    "#there are actually 9 datasets here from 3-month old mice:\n",
    "\n",
    "ct_syn=df[df['CT_SYN']>0]\n",
    "#print (ct_syn)\n",
    "ct_syn_genes=ct_syn['Genes'].tolist()\n",
    "ct_syn_genelist=[]\n",
    "for gene in ct_syn_genes:\n",
    "    entry=gene.split(';')\n",
    "    ct_syn_genelist.append(entry)\n",
    "ct_syn_genelist=[x for sublist in ct_syn_genelist for x in sublist]\n",
    "print (len(ct_syn_genelist))"
   ]
  },
  {
   "cell_type": "code",
   "execution_count": 233,
   "id": "4d320f79-cc07-463b-9aeb-f8f2e8925a34",
   "metadata": {},
   "outputs": [
    {
     "name": "stdout",
     "output_type": "stream",
     "text": [
      "new 882\n",
      "old 508\n"
     ]
    }
   ],
   "source": [
    "def find_overlaps(ct_syn_genes):\n",
    "    new_overlap=list(set(ct_syn_genes)&set(syngo_genes+synsig_genes))\n",
    "    print ('new', len(new_overlap))\n",
    "    \n",
    "    old_overlap=list(set(ct_syn_genes)&set(syngo_genes))\n",
    "    print ('old', len(old_overlap))\n",
    "    return new_overlap, old_overlap\n",
    "\n",
    "new_overlap, old_overlap=find_overlaps(ct_syn_genelist)"
   ]
  },
  {
   "cell_type": "code",
   "execution_count": 198,
   "id": "22087511-8d15-484a-8bb0-d92d555447f8",
   "metadata": {},
   "outputs": [
    {
     "name": "stdout",
     "output_type": "stream",
     "text": [
      "(1771, 19)\n",
      "new 753\n",
      "old 446\n"
     ]
    }
   ],
   "source": [
    "ct_sym=df[df['CT_SYM']>0]\n",
    "print (ct_sym.shape)\n",
    "ct_sym_genes=ct_sym['Genes'].tolist()\n",
    "new_overlap, old_overlap=find_overlaps(ct_sym_genes)"
   ]
  },
  {
   "cell_type": "code",
   "execution_count": 199,
   "id": "b09749dc-e848-4957-9930-9ebd72dfebc5",
   "metadata": {},
   "outputs": [
    {
     "name": "stdout",
     "output_type": "stream",
     "text": [
      "(1286, 19)\n",
      "new 639\n",
      "old 414\n"
     ]
    }
   ],
   "source": [
    "ct_psd=df[df['CT_PSD']>0]\n",
    "print (ct_psd.shape)\n",
    "ct_psd_genes=ct_psd['Genes'].tolist()\n",
    "new_overlap, old_overlap=find_overlaps(ct_psd_genes)"
   ]
  },
  {
   "cell_type": "code",
   "execution_count": 200,
   "id": "22b0461d-164c-4a91-b083-ada0cf6f0bf0",
   "metadata": {},
   "outputs": [
    {
     "name": "stdout",
     "output_type": "stream",
     "text": [
      "(2643, 19)\n",
      "new 996\n",
      "old 569\n"
     ]
    }
   ],
   "source": [
    "def find_pandya_overlap(df, column):\n",
    "    region=df[df[column]>0]\n",
    "    print (region.shape)\n",
    "    genes=region['Genes'].tolist()\n",
    "    new_overlap, old_overlap=find_overlaps(genes)\n",
    "    return genes, new_overlap, old_overlap\n",
    "\n",
    "hc_syn_genes, new_overlap, old_overlap=find_pandya_overlap(df, 'HC_SYN')"
   ]
  },
  {
   "cell_type": "code",
   "execution_count": 201,
   "id": "65f477ff-cd0c-4ae0-8550-f37b41138f6a",
   "metadata": {},
   "outputs": [
    {
     "name": "stdout",
     "output_type": "stream",
     "text": [
      "(2527, 19)\n",
      "new 954\n",
      "old 555\n"
     ]
    }
   ],
   "source": [
    "hc_sym_genes, new_overlap, old_overlap=find_pandya_overlap(df, 'HC_SYM')"
   ]
  },
  {
   "cell_type": "code",
   "execution_count": 202,
   "id": "d5cd5805-c65d-4837-921a-a132953f5270",
   "metadata": {},
   "outputs": [
    {
     "name": "stdout",
     "output_type": "stream",
     "text": [
      "(1542, 19)\n",
      "new 688\n",
      "old 411\n"
     ]
    }
   ],
   "source": [
    "hc_psd_genes, new_overlap, old_overlap=find_pandya_overlap(df, 'HC_PSD')"
   ]
  },
  {
   "cell_type": "code",
   "execution_count": 203,
   "id": "d1d1cb79-7495-48d2-a167-e794b8512830",
   "metadata": {},
   "outputs": [
    {
     "name": "stdout",
     "output_type": "stream",
     "text": [
      "(2347, 19)\n",
      "new 874\n",
      "old 484\n"
     ]
    }
   ],
   "source": [
    "cb_syn_genes, new_overlap, old_overlap=find_pandya_overlap(df, 'CB_SYN')"
   ]
  },
  {
   "cell_type": "code",
   "execution_count": 204,
   "id": "a12ce66c-1b5e-4920-bf3f-1970cb5a0d2f",
   "metadata": {},
   "outputs": [
    {
     "name": "stdout",
     "output_type": "stream",
     "text": [
      "(2260, 19)\n",
      "new 857\n",
      "old 480\n"
     ]
    }
   ],
   "source": [
    "cb_sym_genes, new_overlap, old_overlap=find_pandya_overlap(df, 'CB_SYM')"
   ]
  },
  {
   "cell_type": "code",
   "execution_count": 205,
   "id": "c1794eec-6ff8-40b4-9bb9-61e8253506f6",
   "metadata": {},
   "outputs": [
    {
     "name": "stdout",
     "output_type": "stream",
     "text": [
      "(1791, 19)\n",
      "new 787\n",
      "old 441\n"
     ]
    }
   ],
   "source": [
    "cb_psd_genes, new_overlap, old_overlap=find_pandya_overlap(df, 'CB_PSD')"
   ]
  },
  {
   "cell_type": "code",
   "execution_count": 206,
   "id": "c54de173-32c1-4328-8bf8-fb3270a03064",
   "metadata": {},
   "outputs": [
    {
     "name": "stdout",
     "output_type": "stream",
     "text": [
      "[nan, nan, nan, nan, nan]\n",
      "['Gene name', 'Dync1H1', 'Sptbn1', 'Sptan1', 'Plec']\n",
      "['Dync1H1', 'Sptbn1', 'Sptan1', 'Plec', 'Bsn']\n",
      "1213\n"
     ]
    }
   ],
   "source": [
    "#https://www.nature.com/articles/s41593-017-0025-9\n",
    "#human brain regions\n",
    "df=pd.read_excel(wdir+'/Roy_2018.xlsx', sheet_name='Supplemental Tables 7A-D')\n",
    "#print (df)\n",
    "genes=df.iloc[:,1].tolist()\n",
    "print (genes[:5])\n",
    "genes=[x for x in genes if str(x) != 'nan']\n",
    "print (genes[:5])\n",
    "genes.pop(0)\n",
    "print (genes[:5])\n",
    "print (len(genes))\n",
    "roy_2018_genes=[x.upper() for x in genes]"
   ]
  },
  {
   "cell_type": "code",
   "execution_count": 207,
   "id": "0b64475e-e8ce-4c07-ad9e-ddc01e0f3760",
   "metadata": {},
   "outputs": [
    {
     "name": "stdout",
     "output_type": "stream",
     "text": [
      "[nan, nan, nan, nan, nan]\n",
      "['Gene name', 'Dync1H1', 'Sptbn1', 'Sptan1', 'Plec']\n",
      "['Dync1H1', 'Sptbn1', 'Sptan1', 'Plec', 'Bsn']\n",
      "1213\n"
     ]
    }
   ],
   "source": [
    "#https://www.nature.com/articles/s41593-017-0025-9\n",
    "#human brain regions\n",
    "df=pd.read_excel(wdir+'/Roy_2018.xlsx', sheet_name='Supplemental Tables 7A-D')\n",
    "#print (df)\n",
    "genes=df.iloc[:,1].tolist()\n",
    "print (genes[:5])\n",
    "genes=[x for x in genes if str(x) != 'nan']\n",
    "print (genes[:5])\n",
    "genes.pop(0)\n",
    "print (genes[:5])\n",
    "print (len(genes))\n",
    "roy_2018_genes=[x.upper() for x in genes]"
   ]
  },
  {
   "cell_type": "code",
   "execution_count": 208,
   "id": "4abc56b4-360f-405b-81d2-541394a9c37b",
   "metadata": {},
   "outputs": [
    {
     "name": "stdout",
     "output_type": "stream",
     "text": [
      "new 546\n",
      "old 297\n"
     ]
    }
   ],
   "source": [
    "new_overlap, old_overlap=find_overlaps(roy_2018_genes)"
   ]
  },
  {
   "cell_type": "code",
   "execution_count": 209,
   "id": "6e93aaa1-e735-4512-8711-094ba873ceab",
   "metadata": {},
   "outputs": [
    {
     "name": "stdout",
     "output_type": "stream",
     "text": [
      "4     NaN GI Accessiona Gene Nameb Peptide countc Unique peptidesd  \\\n",
      "5     NaN      97537229     Sptbn1            107               98   \n",
      "6     NaN     148701112     Sptbn2             76               69   \n",
      "7     NaN     134288917    Dync1h1             70               67   \n",
      "8     NaN     568940842      Itpr1             61               59   \n",
      "9     NaN      33438248       Cltc             59               59   \n",
      "...   ...           ...        ...            ...              ...   \n",
      "1987  NaN           NaN        NaN            NaN              NaN   \n",
      "1988  NaN           NaN        NaN            NaN              NaN   \n",
      "1989  NaN           NaN        NaN            NaN              NaN   \n",
      "1990  NaN           NaN        NaN            NaN              NaN   \n",
      "1991  NaN           NaN        NaN            NaN              NaN   \n",
      "\n",
      "4    Confidence scoree Anova (p)f Max fold Δg Highesth Lowesti  ...  \\\n",
      "5              7954.41   0.015337     1.33946       ST     CxM  ...   \n",
      "6              5669.75        0.0    2.471093       CB     Hyp  ...   \n",
      "7              3632.83   0.386262    1.133926      Hyp      CB  ...   \n",
      "8              3721.96        0.0   13.995801       CB     Hyp  ...   \n",
      "9              4530.27   0.010163    1.464081      CxM      ST  ...   \n",
      "...                ...        ...         ...      ...     ...  ...   \n",
      "1987               NaN        NaN         NaN      NaN     NaN  ...   \n",
      "1988               NaN        NaN         NaN      NaN     NaN  ...   \n",
      "1989               NaN        NaN         NaN      NaN     NaN  ...   \n",
      "1990               NaN        NaN         NaN      NaN     NaN  ...   \n",
      "1991               NaN        NaN         NaN      NaN     NaN  ...   \n",
      "\n",
      "4     2504574208.497276 1684776072.8618283  2112631148.971184  \\\n",
      "5      892081703.320759    757355133.99572   828169034.371711   \n",
      "6      370074955.025635   455996343.938483   386870245.734638   \n",
      "7      150287273.617634   132366230.687175   161797750.005475   \n",
      "8     1404372804.586495  2349228046.098413  1814709874.558695   \n",
      "9      506001312.823111   372767817.875912   435488642.532057   \n",
      "...                 ...                ...                ...   \n",
      "1987                  0                  0                  0   \n",
      "1988                  0                  0                  0   \n",
      "1989                  0                  0                  0   \n",
      "1990                  0                  0                  0   \n",
      "1991                  0                  0                  0   \n",
      "\n",
      "4    2108763455.6551423 2737166942.7742877 2446390927.2140985  \\\n",
      "5      880047355.781425  1334556154.305191  1102579214.856086   \n",
      "6      422873284.712954   474063764.308779   438468175.119321   \n",
      "7      169182631.749562   969814345.475777   251078104.318483   \n",
      "8     2060384817.788157  1633162913.361173  1561475533.511267   \n",
      "9      435636256.402131   653380080.307662   527474629.834077   \n",
      "...                 ...                ...                ...   \n",
      "1987                  0                  0                  0   \n",
      "1988                  0                  0                  0   \n",
      "1989                  0                  0                  0   \n",
      "1990                  0                  0                  0   \n",
      "1991                  0                  0                  0   \n",
      "\n",
      "4    1974718539.2827315 2752338196.6278496 2385287224.9632688  \\\n",
      "5      814725634.442848   941130357.269488   901316020.558253   \n",
      "6      369811171.254789   420693239.252974   378085787.457959   \n",
      "7        142785815.3682   117880660.079808   141275032.905855   \n",
      "8     1334735963.201822  1494771489.424453  1496506911.119433   \n",
      "9      380085373.372133   508891440.700306   488408175.863656   \n",
      "...                 ...                ...                ...   \n",
      "1987                  0                  0                  0   \n",
      "1988                  0                  0                  0   \n",
      "1989                  0                  0                  0   \n",
      "1990                  0                  0                  0   \n",
      "1991                  0                  0                  0   \n",
      "\n",
      "4     2500339301.246808  \n",
      "5      900899002.230143  \n",
      "6      375690189.785779  \n",
      "7      236011936.008631  \n",
      "8     1300255780.936508  \n",
      "9      510790187.829171  \n",
      "...                 ...  \n",
      "1987                  0  \n",
      "1988                  0  \n",
      "1989                  0  \n",
      "1990                  0  \n",
      "1991                  0  \n",
      "\n",
      "[1987 rows x 52 columns]\n"
     ]
    }
   ],
   "source": [
    "df=pd.read_excel(wdir+'/Roy_2018m_genes.xlsx', sheet_name='OneWay ANOVA')\n",
    "df.columns=df.iloc[4]\n",
    "df=df.drop(df.index[[0,1,2,3,4]])\n",
    "print (df)"
   ]
  },
  {
   "cell_type": "code",
   "execution_count": 210,
   "id": "94cfb3f7-c2d2-46fc-95fd-30ba367d9866",
   "metadata": {},
   "outputs": [
    {
     "name": "stdout",
     "output_type": "stream",
     "text": [
      "1172\n",
      "new 575\n",
      "old 350\n"
     ]
    }
   ],
   "source": [
    "roy_2018m_genes=df['Gene Nameb'].tolist()\n",
    "roy_2018m_genes=[x for x in roy_2018m_genes if str(x) != 'nan']\n",
    "print (len(roy_2018m_genes))\n",
    "roy_2018m_genes=[str(x) for x in roy_2018m_genes]\n",
    "roy_2018m_genes=[x.upper() for x in roy_2018m_genes]\n",
    "new_overlap, old_overlap=find_overlaps(roy_2018m_genes)\n"
   ]
  },
  {
   "cell_type": "code",
   "execution_count": 211,
   "id": "80509a4d-35ca-4180-9f13-a4aa2bc25fd7",
   "metadata": {},
   "outputs": [
    {
     "name": "stdout",
     "output_type": "stream",
     "text": [
      "                 Protein         Category  Percent \\n of total protein  \\\n",
      "0   alpha/beta-Synuclein  Disease-related                        0.156   \n",
      "1             alpha-SNAP  SNARE co-factor                        0.063   \n",
      "2                  Actin     Cytoskeleton                        2.141   \n",
      "3            Amphiphysin      Endocytosis                        0.148   \n",
      "4                 AP 180      Endocytosis                        0.576   \n",
      "..                   ...              ...                          ...   \n",
      "76                   NaN              NaN                          NaN   \n",
      "77                   NaN              NaN                          NaN   \n",
      "78                   NaN              NaN                          NaN   \n",
      "79                   NaN              NaN                          NaN   \n",
      "80                   NaN              NaN                          NaN   \n",
      "\n",
      "   Mean\\n number SEM\\n number Concentration\\n [µM]  Comments Gene Symbol  \n",
      "0        6525.67       345.48                43.57       1.0        SNCA  \n",
      "1         1150.7        46.62                 7.68       NaN        SNCB  \n",
      "2        22074.6      1909.62               147.39       2.0        NAPA  \n",
      "3         1194.2        60.04                 7.97       NaN        ACTB  \n",
      "4         3736.4       207.63                24.95       NaN        AMPH  \n",
      "..           ...          ...                  ...       ...         ...  \n",
      "76           NaN          NaN                  NaN       NaN     SLC17A7  \n",
      "77           NaN          NaN                  NaN       NaN     SLC17A6  \n",
      "78           NaN          NaN                  NaN       NaN       VTI1A  \n",
      "79           NaN          NaN                  NaN       NaN         MBP  \n",
      "80           NaN          NaN                  NaN       NaN        DLG4  \n",
      "\n",
      "[81 rows x 8 columns]\n",
      "81\n"
     ]
    }
   ],
   "source": [
    "#Wilhelm et al, 2014\n",
    "df=pd.read_excel(wdir +'/wilhelm_2014_presyn_wb_names.xlsx')\n",
    "print (df)\n",
    "wilhelm_wb_genes=df['Gene Symbol'].tolist()\n",
    "print (len(wilhelm_wb_genes))"
   ]
  },
  {
   "cell_type": "code",
   "execution_count": 212,
   "id": "e3afe86f-7090-4a46-9170-d418a2008515",
   "metadata": {},
   "outputs": [
    {
     "name": "stdout",
     "output_type": "stream",
     "text": [
      "new 63\n",
      "old 57\n"
     ]
    }
   ],
   "source": [
    "new_overlap, old_overlap=find_overlaps(wilhelm_wb_genes)\n"
   ]
  },
  {
   "cell_type": "markdown",
   "id": "5b7cccbf-c604-440b-96bf-b0a0d2a367a2",
   "metadata": {
    "tags": []
   },
   "source": []
  },
  {
   "cell_type": "code",
   "execution_count": 213,
   "id": "656f32be-5203-4fb9-bb7f-41176e17a4f6",
   "metadata": {},
   "outputs": [
    {
     "name": "stdout",
     "output_type": "stream",
     "text": [
      "                  Protein       Category  Percent \\n of total protein  \\\n",
      "0               beta-SNAP  NSF co-factor                        0.052   \n",
      "1                  AP1 µ1    Endocytosis                        0.004   \n",
      "2                AP1 beta    Endocytosis                        0.016   \n",
      "3               AP2 alpha    Endocytosis                        0.158   \n",
      "4                AP2 beta    Endocytosis                        0.188   \n",
      "..                    ...            ...                          ...   \n",
      "68            vATPase (F)    Proton pump                        0.007   \n",
      "69  vATPase (proteolipid)    Proton pump                        0.012   \n",
      "70                   VGat    Transporter                        0.038   \n",
      "71                 VPS 29     Signalling                        0.019   \n",
      "72                    NaN            NaN                          NaN   \n",
      "\n",
      "    Mean\\n number  SEM\\n number  Concentration\\n [µM]  Comments Gene Symbol  \n",
      "0         931.860        49.690                  6.22       NaN        NAPB  \n",
      "1          52.919         3.100                  0.35       NaN       AP2M1  \n",
      "2          90.927        18.050                  0.61       NaN       AP1B1  \n",
      "3         914.570        75.750                  6.11       NaN       AP2A1  \n",
      "4        1071.400        81.970                  7.15       NaN       AP2A2  \n",
      "..            ...           ...                   ...       ...         ...  \n",
      "68        334.100        39.734                  2.23       NaN    ATP6V1E1  \n",
      "69        466.890       261.140                  3.12       NaN     ATP6V1F  \n",
      "70        399.890        12.468                  2.67       1.0     ATP6V0C  \n",
      "71        541.000       100.150                  3.61       NaN     SLC32A1  \n",
      "72            NaN           NaN                   NaN       NaN       VPS29  \n",
      "\n",
      "[73 rows x 8 columns]\n",
      "73\n",
      "new 52\n",
      "old 44\n"
     ]
    }
   ],
   "source": [
    "df=pd.read_excel(wdir +'/wilhelm_2014_presyn_ibaq_names.xlsx')\n",
    "print (df)\n",
    "wilhelm_genes=df['Gene Symbol'].tolist()\n",
    "print (len(wilhelm_genes))\n",
    "\n",
    "new_overlap, old_overlap=find_overlaps(wilhelm_genes)\n"
   ]
  },
  {
   "cell_type": "code",
   "execution_count": 214,
   "id": "1ecdaff6-86fb-40ac-9943-65f444125cd2",
   "metadata": {},
   "outputs": [
    {
     "name": "stdout",
     "output_type": "stream",
     "text": [
      "    UNIPROT ID    Gene name  \\\n",
      "0       B0BN86      Tmem11    \n",
      "1       B0BNM1     Apoa1bp    \n",
      "2       B0K020       Cisd1    \n",
      "3       B1WBW4      Armc10    \n",
      "4       B2GV06       Oxct1    \n",
      "..         ...          ...   \n",
      "292     O55171       Acot2    \n",
      "293     O88483        Pdp1    \n",
      "294     P80432       Cox7c    \n",
      "295     Q6EIX2  Magmas-ps1    \n",
      "296     P00406       Mtco2    \n",
      "\n",
      "                                          Protein name     MEAN%     STDEV  \n",
      "0             Transmembrane protein 11, mitochondrial   0.013913  0.004886  \n",
      "1                           NAD(P)H-hydrate epimerase   0.001998  0.000751  \n",
      "2       CDGSH iron-sulfur domain-containing protein 1   0.067116  0.014050  \n",
      "3              Armadillo repeat-containing protein 10   0.004300  0.001078  \n",
      "4     Succinyl-CoA:3-ketoacid coenzyme A transferas...  0.110889  0.049528  \n",
      "..                                                 ...       ...       ...  \n",
      "292     Acyl-coenzyme A thioesterase 2, mitochondrial   0.005268  0.003783  \n",
      "293   [Pyruvate dehydrogenase [acetyl-transferring]...  0.002099  0.001180  \n",
      "294    Cytochrome c oxidase subunit 7C, mitochondrial   0.000447  0.000209  \n",
      "295   Mitochondrial import inner membrane transloca...  0.001019       NaN  \n",
      "296                    Cytochrome c oxidase subunit 2   0.266872  0.066006  \n",
      "\n",
      "[297 rows x 5 columns]\n"
     ]
    }
   ],
   "source": [
    "df = pd.read_excel(wdir + '/Wilhelm_2014_others.xlsx', sheet_name='Mitochondria')\n",
    "print (df)"
   ]
  },
  {
   "cell_type": "code",
   "execution_count": 215,
   "id": "17a32b07-f480-42b5-b97f-657f78125bb3",
   "metadata": {},
   "outputs": [
    {
     "name": "stdout",
     "output_type": "stream",
     "text": [
      "1202\n"
     ]
    }
   ],
   "source": [
    "genes_mito=df['Gene name'].tolist()\n",
    "df = pd.read_excel(wdir + '/Wilhelm_2014_others.xlsx', sheet_name='Myelin')\n",
    "genes_myelin=df['Gene name'].tolist()\n",
    "df = pd.read_excel(wdir + '/Wilhelm_2014_others.xlsx', sheet_name='Post-synaptic density')\n",
    "genes_psd=df['Gene name'].tolist()\n",
    "df = pd.read_excel(wdir + '/Wilhelm_2014_others.xlsx', sheet_name='Endoplasmatic reticulum')\n",
    "genes_er=df['Gene name'].tolist()\n",
    "df = pd.read_excel(wdir + '/Wilhelm_2014_others.xlsx', sheet_name='Remaining')\n",
    "genes_rem=df['Gene name'].tolist()\n",
    "\n",
    "wilhelm_others=list(set(genes_mito+genes_myelin+genes_psd+genes_er+genes_rem+wilhelm_wb_genes + wilhelm_genes))\n",
    "#wilhelm_others=list(set(genes_mito+genes_myelin+genes_psd+genes_er+genes_rem))\n",
    "print (len(wilhelm_others))\n",
    "wilhelm_others=[str(x) for x in wilhelm_others]\n",
    "wilhelm_others=[x.upper() for x in wilhelm_others]"
   ]
  },
  {
   "cell_type": "code",
   "execution_count": 216,
   "id": "fd0f97e3-c8dd-440e-815f-4fcb11c523d8",
   "metadata": {},
   "outputs": [
    {
     "name": "stdout",
     "output_type": "stream",
     "text": [
      "new 148\n",
      "old 122\n"
     ]
    }
   ],
   "source": [
    "new_overlap, old_overlap=find_overlaps(wilhelm_others)"
   ]
  },
  {
   "cell_type": "code",
   "execution_count": 217,
   "id": "951ff3c8-74ad-4ff0-9d46-a1591154cdc0",
   "metadata": {},
   "outputs": [
    {
     "name": "stdout",
     "output_type": "stream",
     "text": [
      "98\n"
     ]
    }
   ],
   "source": [
    "#Morciano et al, 2005\n",
    "#presynaptic proteins\n",
    "##https://onlinelibrary.wiley.com/doi/epdf/10.1111/j.1471-4159.2005.03506.x\n",
    "\n",
    "df=pd.read_excel(wdir + '/Morciano_2005_names.xlsx', sheet_name='Table1')\n",
    "#print (df)\n",
    "genes1=df['Gene Name'].tolist()\n",
    "df=pd.read_excel(wdir + '/Morciano_2005_names.xlsx', sheet_name='Table2')\n",
    "genes2=df['Gene Name'].tolist()\n",
    "morciano_2005_genes=list(set(genes1+genes2))\n",
    "print (len(morciano_2005_genes))"
   ]
  },
  {
   "cell_type": "code",
   "execution_count": 218,
   "id": "1d7d1e22-8f0d-4419-9956-46a1bf4ff991",
   "metadata": {},
   "outputs": [
    {
     "name": "stdout",
     "output_type": "stream",
     "text": [
      "new 54\n",
      "old 39\n"
     ]
    }
   ],
   "source": [
    "new_overlap, old_overlap=find_overlaps(morciano_2005_genes)"
   ]
  },
  {
   "cell_type": "code",
   "execution_count": 219,
   "id": "bc04e955-6eb3-41fe-875a-158f206593db",
   "metadata": {},
   "outputs": [
    {
     "name": "stdout",
     "output_type": "stream",
     "text": [
      "205\n",
      "140\n"
     ]
    }
   ],
   "source": [
    "consensus1=list(set(fetal)&set(ngn2)&set(striatum)&set(ctx)&set(bayes_2011_genes)&set(bayes_2012_genes))\n",
    "print (len(consensus1))\n",
    "\n",
    "consensus2=list(set(consensus1)&set(bayes_2012_consensus)&set(bayes_2012_human)&set(bayes_2017_genes)&set(biesemann_genes))\n",
    "print (len(consensus2))\n"
   ]
  },
  {
   "cell_type": "code",
   "execution_count": 220,
   "id": "465b9883-6cf4-497f-903e-16108d07ea0c",
   "metadata": {},
   "outputs": [
    {
     "name": "stdout",
     "output_type": "stream",
     "text": [
      "12068\n"
     ]
    }
   ],
   "source": [
    "gene_lists=[fetal, ngn2, striatum, ctx, bayes_2011_genes, bayes_2012_genes, bayes_2012_consensus, \n",
    "            bayes_2012_human, bayes_2017_genes, biesemann_genes, boyken_genes, coba_2016_genes, collins_psp_genes,\n",
    "            collins_psd_genes, filiou_genes, moc_genes, ct_syn_genes, ct_sym_genes, ct_psd_genes, hc_syn_genes,\n",
    "            hc_sym_genes, hc_psd_genes, cb_syn_genes, cb_sym_genes, cb_psd_genes, roy_2018m_genes, \n",
    "            wilhelm_wb_genes, wilhelm_genes, wilhelm_others, morciano_2005_genes]\n",
    "\n",
    "gene_list_names=['fetal', 'ngn2', 'striatum', 'ctx', 'bayes_2011_genes', 'bayes_2012_genes', 'bayes_2012_consensus', \n",
    "            'bayes_2012_human', 'bayes_2017_genes', 'biesemann_genes', 'boyken_genes', 'coba_2016_genes', 'collins_psp_genes',\n",
    "            'collins_psd_genes', 'filiou_genes', 'moc_genes', 'ct_syn_genes', 'ct_sym_genes', 'ct_psd_genes', 'hc_syn_genes',\n",
    "            'hc_sym_genes', 'hc_psd_genes', 'cb_syn_genes', 'cb_sym_genes', 'cb_psd_genes', 'roy_2018m_genes', \n",
    "            'wilhelm_wb_genes', 'wilhelm_genes', 'wilhelm_others', 'morciano_2005_genes']\n",
    "\n",
    "all_genes= [item for sublist in gene_lists for item in sublist]\n",
    "all_genes=list(set(all_genes))\n",
    "all_genes=[x for x in all_genes if str(x) != 'nan']\n",
    "print (len(all_genes))\n",
    "    "
   ]
  },
  {
   "cell_type": "code",
   "execution_count": 222,
   "id": "6edf5f86-f17a-4500-82ce-1bc443b08cb8",
   "metadata": {},
   "outputs": [],
   "source": [
    "def find_tally(genelist):\n",
    "    tally_genelist=[]\n",
    "    for gene in all_genes:\n",
    "        if gene in genelist:\n",
    "            tally=1\n",
    "        else:\n",
    "            tally=0\n",
    "        tally_genelist.append(tally)\n",
    "    return tally_genelist\n",
    "\n",
    "df=pd.DataFrame({'genes': all_genes})\n",
    "\n",
    "tallies=[]\n",
    "for i in range(len(gene_lists)):\n",
    "    tally=find_tally(gene_lists[i])\n",
    "    tallies.append(tally)\n",
    "    \n",
    "data = {gene_list_names[i]: tallies[i] for i in range(len(gene_list_names))}\n",
    "#print (df)\n",
    "df = pd.DataFrame(data, index=all_genes)\n",
    "df['sum'] = df.sum(axis=1)\n",
    "#print (df)\n",
    "\n",
    "#print (high)"
   ]
  },
  {
   "cell_type": "code",
   "execution_count": 223,
   "id": "269ee533-dcaa-4591-80a3-0f04231e0a91",
   "metadata": {},
   "outputs": [
    {
     "name": "stdout",
     "output_type": "stream",
     "text": [
      "878\n",
      "520\n"
     ]
    }
   ],
   "source": [
    "high=df[df['sum']>10]\n",
    "high_genes=list(high.index)\n",
    "new_overlap=list(set(high_genes)&set(syngo_genes+synsig_genes))\n",
    "print (len(new_overlap))\n",
    "old_overlap=list(set(high_genes)&set(syngo_genes))\n",
    "print (len(old_overlap))"
   ]
  },
  {
   "cell_type": "code",
   "execution_count": null,
   "id": "097f6936-1712-4097-ad22-e9003e989ce9",
   "metadata": {},
   "outputs": [],
   "source": [
    "pip install matplotlib_venn"
   ]
  },
  {
   "cell_type": "code",
   "execution_count": 225,
   "id": "cebab7e2-043b-43a0-a1ba-ef520d081181",
   "metadata": {},
   "outputs": [
    {
     "data": {
      "image/png": "[encoded data removed]",
      "text/plain": [
       "<Figure size 640x480 with 1 Axes>"
      ]
     },
     "metadata": {},
     "output_type": "display_data"
    }
   ],
   "source": [
    "from matplotlib_venn import venn3\n",
    "import matplotlib.pyplot as plt\n",
    "\n",
    "\n",
    "\n",
    "# Create the Venn diagram\n",
    "venn = venn3([set(high_genes), set(syngo_genes+synsig_genes), set(syngo_genes)], ('Frequent Synapse Hits', 'SynSig', 'SynGO'))\n",
    "\n",
    "# Show the plot\n",
    "plt.savefig('/cellar/users/yumei/Documents/SynSig_August2020/SynSig/experimental_validation/overlap_prot_synsig_syngo.svg', bbox_inches='tight')\n",
    "plt.show()\n"
   ]
  },
  {
   "cell_type": "code",
   "execution_count": null,
   "id": "96b8e46b-1b63-4fee-be89-cc80ca7df489",
   "metadata": {},
   "outputs": [],
   "source": [
    "df.to_csv('/cellar/users/yumei/Documents/SynSig_August2020/revisions/SynSig_Updated/analyze_synsig/synsig_proteomics_unified.csv')"
   ]
  },
  {
   "cell_type": "code",
   "execution_count": 226,
   "id": "f839c138-f35f-4712-b86e-abe9587fe0c3",
   "metadata": {},
   "outputs": [
    {
     "name": "stdout",
     "output_type": "stream",
     "text": [
      "1679\n"
     ]
    }
   ],
   "source": [
    "synsig_overlap=list(set(synsig_genes+syngo_genes)&set(all_genes))\n",
    "print (len(synsig_overlap))"
   ]
  },
  {
   "cell_type": "code",
   "execution_count": 227,
   "id": "d02f6fd7-d7c1-4ce0-8a03-035c3dbb2ab0",
   "metadata": {},
   "outputs": [
    {
     "name": "stdout",
     "output_type": "stream",
     "text": [
      "       Data Source                                         Paper Link  \\\n",
      "0        Roy 2018b  https://www.nature.com/articles/s41593-017-0025-9   \n",
      "1        Roy 2018a              https://www.mdpi.com/2227-7382/6/3/31   \n",
      "2     Wilhelm 2014  https://www.science.org/doi/10.1126/science.12...   \n",
      "3     Wilhelm 2014  https://www.science.org/doi/10.1126/science.12...   \n",
      "4     Wilhelm 2014  https://www.science.org/doi/10.1126/science.12...   \n",
      "5    Morciano 2005          https://pubmed.ncbi.nlm.nih.gov/16269012/   \n",
      "6        Abul 2009          https://pubmed.ncbi.nlm.nih.gov/19562802/   \n",
      "7       Bayes 2011          https://pubmed.ncbi.nlm.nih.gov/21170055/   \n",
      "8       Bayes 2012  https://journals.plos.org/plosone/article?id=1...   \n",
      "9       Bayes 2012  https://journals.plos.org/plosone/article?id=1...   \n",
      "10      Bayes 2012  https://journals.plos.org/plosone/article?id=1...   \n",
      "11      Bayes 2017  https://nottingham-repository.worktribe.com/ou...   \n",
      "12   Bieseman 2014          https://pubmed.ncbi.nlm.nih.gov/24413018/   \n",
      "13     Boyken 2013  https://www.sciencedirect.com/science/article/...   \n",
      "14      Chang 2015  https://www.sciencedirect.com/science/article/...   \n",
      "15       Coba 2016                                                tbd   \n",
      "16    Collins 2006  https://onlinelibrary.wiley.com/doi/10.1111/j....   \n",
      "17    Collins 2006  https://onlinelibrary.wiley.com/doi/10.1111/j....   \n",
      "18     Pandya 2017          https://pubmed.ncbi.nlm.nih.gov/28935861/   \n",
      "19     Pandya 2017          https://pubmed.ncbi.nlm.nih.gov/28935861/   \n",
      "20     Pandya 2017          https://pubmed.ncbi.nlm.nih.gov/28935861/   \n",
      "21     Pandya 2017          https://pubmed.ncbi.nlm.nih.gov/28935861/   \n",
      "22     Pandya 2017          https://pubmed.ncbi.nlm.nih.gov/28935861/   \n",
      "23     Pandya 2017          https://pubmed.ncbi.nlm.nih.gov/28935861/   \n",
      "24     Pandya 2017          https://pubmed.ncbi.nlm.nih.gov/28935861/   \n",
      "25     Pandya 2017          https://pubmed.ncbi.nlm.nih.gov/28935861/   \n",
      "26     Pandya 2017          https://pubmed.ncbi.nlm.nih.gov/28935861/   \n",
      "27     Filiou 2010  https://analyticalsciencejournals.onlinelibrar...   \n",
      "28  Moczulska 2014         https://pubs.acs.org/doi/10.1021/pr500456t   \n",
      "\n",
      "    Year Published                           Tissue Type  \\\n",
      "0           2018.0                       Human neocortex   \n",
      "1           2018.0                          Mouse brain    \n",
      "2           2014.0                             Rat brain   \n",
      "3           2014.0                             Rat brain   \n",
      "4           2014.0                             Rat brain   \n",
      "5           2005.0                             Rat brain   \n",
      "6           2009.0                         Mice and rats   \n",
      "7           2011.0                       Human neocortex   \n",
      "8           2012.0              mouse cortex (6-8 weeks)   \n",
      "9           2012.0                          human cortex   \n",
      "10          2912.0                            consensus    \n",
      "11          2017.0                                 mouse   \n",
      "12          2014.0                                 mouse   \n",
      "13          2013.0                             rat brain   \n",
      "14          2015.0  human (motor cortex and hippocampus)   \n",
      "15          2016.0                                 mouse   \n",
      "16          2006.0                                 mouse   \n",
      "17          2006.0                                 mouse   \n",
      "18          2017.0                          mouse cortex   \n",
      "19          2017.0                          mouse cortex   \n",
      "20          2017.0                          mouse cortex   \n",
      "21          2017.0                     mouse hippocampus   \n",
      "22          2017.0                     mouse hippocampus   \n",
      "23          2017.0                     mouse hippocampus   \n",
      "24          2017.0                      mouse cerebellum   \n",
      "25          2017.0                      mouse cerebellum   \n",
      "26          2017.0                      mouse cerebellum   \n",
      "27          2010.0                          Mouse brain    \n",
      "28          2014.0           mouse cortex (3 or 8 weeks)   \n",
      "\n",
      "                Type of Proteins      Method  Total No. Proteins  \\\n",
      "0                            PSD  Proteomics              1213.0   \n",
      "1                            PSD  Proteomics              1172.0   \n",
      "2   Selected presynaptic vesicle         WB                 81.0   \n",
      "3   Selected presynaptic vesicle  Proteomics                73.0   \n",
      "4                    Synaptosome  Proteomics               909.0   \n",
      "5                    Presynaptic  Proteomics                98.0   \n",
      "6                    Presynaptic  Proteomics               393.0   \n",
      "7                            PSD  Proteomics              1461.0   \n",
      "8         Postsynaptic proteomes  Proteomics              1556.0   \n",
      "9         postsynaptic proteomes  proteomics              1451.0   \n",
      "10                           PSD  proteomics               984.0   \n",
      "11                   synaptosome  proteomics              3579.0   \n",
      "12                   synaptosome        FASS              2775.0   \n",
      "13             synaptic vesicles  proteomics               442.0   \n",
      "14                   synaptosome  proteomics              2072.0   \n",
      "15                   synaptosome  proteomics              1604.0   \n",
      "16        postsynaptic proteomes  proteomics              1121.0   \n",
      "17                           PSD  proteomics              1080.0   \n",
      "18                   synaptosome  proteomics              1982.0   \n",
      "19             synaptic membrane  proteomics              1771.0   \n",
      "20                           PSD  proteomics              1286.0   \n",
      "21                   synaptosome  proteomics              2643.0   \n",
      "22             synaptic membrane  proteomics              2527.0   \n",
      "23                           PSD  proteomics              1542.0   \n",
      "24                   synaptosome  proteomics              2347.0   \n",
      "25             synaptic membrane  proteomics              2260.0   \n",
      "26                           PSD  proteomics              1791.0   \n",
      "27                   synaptosome  proteomics              2980.0   \n",
      "28                   synaptosome  proteomics              3427.0   \n",
      "\n",
      "    Overlap with SynSig  Overlap with SynGO  SynSig/SynGO  \n",
      "0                 546.0               297.0      1.838384  \n",
      "1                 575.0               350.0      1.642857  \n",
      "2                  63.0                57.0      1.105263  \n",
      "3                  52.0                44.0      1.181818  \n",
      "4                 148.0               122.0      1.213115  \n",
      "5                  54.0                39.0      1.384615  \n",
      "6                 208.0               142.0      1.464789  \n",
      "7                 687.0               142.0      4.838028  \n",
      "8                 762.0               475.0      1.604211  \n",
      "9                 690.0               385.0      1.792208  \n",
      "10                547.0               358.0      1.527933  \n",
      "11               1187.0               688.0      1.725291  \n",
      "12                695.0               373.0      1.863271  \n",
      "13                172.0               110.0      1.563636  \n",
      "14                346.0               161.0      2.149068  \n",
      "15                806.0               506.0      1.592885  \n",
      "16                603.0               382.0      1.578534  \n",
      "17                585.0               378.0      1.547619  \n",
      "18                841.0               486.0      1.730453  \n",
      "19                753.0               446.0      1.688341  \n",
      "20                639.0               414.0      1.543478  \n",
      "21                996.0               569.0      1.750439  \n",
      "22                954.0               555.0      1.718919  \n",
      "23                688.0               411.0      1.673966  \n",
      "24                874.0               484.0      1.805785  \n",
      "25                857.0               480.0      1.785417  \n",
      "26                787.0               441.0      1.784580  \n",
      "27                883.0               467.0      1.890792  \n",
      "28               1065.0               577.0      1.845754  \n"
     ]
    }
   ],
   "source": [
    "sum_dir='/cellar/users/yumei/Documents/SynSig_August2020/SynSig/experimental_validation/'\n",
    "sum_table=pd.read_excel(sum_dir+'/Overlap SynSig Table.xlsx')\n",
    "print (sum_table)\n",
    "proteomic_datasets=sum_table['Data Source'].tolist()\n"
   ]
  },
  {
   "cell_type": "code",
   "execution_count": 228,
   "id": "b253a7a6-b416-438a-af7c-4efc4181a030",
   "metadata": {},
   "outputs": [
    {
     "data": {
      "image/png": "[encoded data removed]",
      "text/plain": [
       "<Figure size 640x480 with 1 Axes>"
      ]
     },
     "metadata": {},
     "output_type": "display_data"
    }
   ],
   "source": [
    "# Plot the DataFrame as a grouped bar graph\n",
    "df=sum_table[['Overlap with SynSig', 'Overlap with SynGO']]\n",
    "             \n",
    "ax=df.plot(kind='bar', stacked=False)\n",
    "\n",
    "import matplotlib.pyplot as plt \n",
    "# Add a title and axis labels\n",
    "plt.title('Grouped Bar Graph')\n",
    "plt.xlabel('Proteomic Datasets')\n",
    "plt.ylabel('Number of Overlapping Proteins')\n",
    "ax.set_xticklabels(proteomic_datasets)\n",
    "plt.savefig('/cellar/users/yumei/Documents/SynSig_August2020/SynSig/experimental_validation/proteomic_synsig_summary_graph.svg', bbox_inches='tight')\n",
    "#print (df)"
   ]
  },
  {
   "cell_type": "code",
   "execution_count": null,
   "id": "a1a61cb2-1ab9-40d9-83d6-351f76a1b297",
   "metadata": {},
   "outputs": [],
   "source": []
  }
 ],
 "metadata": {
  "kernelspec": {
   "display_name": "synsig",
   "language": "python",
   "name": "synsig"
  },
  "language_info": {
   "codemirror_mode": {
    "name": "ipython",
    "version": 3
   },
   "file_extension": ".py",
   "mimetype": "text/x-python",
   "name": "python",
   "nbconvert_exporter": "python",
   "pygments_lexer": "ipython3",
   "version": "3.7.15"
  }
 },
 "nbformat": 4,
 "nbformat_minor": 5
}
